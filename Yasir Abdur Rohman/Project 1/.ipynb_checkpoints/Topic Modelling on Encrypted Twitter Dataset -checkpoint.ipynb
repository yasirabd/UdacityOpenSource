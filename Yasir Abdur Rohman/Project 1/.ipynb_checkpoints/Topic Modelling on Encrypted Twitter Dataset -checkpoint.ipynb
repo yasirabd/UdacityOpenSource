{
 "cells": [
  {
   "cell_type": "markdown",
   "metadata": {},
   "source": [
    "# Topic Modelling on Encrpyted Twitter Dataset\n",
    "*Author: Yasir Abdur Rohman*\n",
    "<hr>"
   ]
  },
  {
   "cell_type": "markdown",
   "metadata": {},
   "source": [
    "# Introduction\n",
    "In this notebook, I will implement Topic Modelling with Latent Dirichlet on Encrypted Twitter Dataset. \n",
    "\n",
    "Twitter is one of the social media that has followed the GDPR rules to protect the privacy of each user. However, we can still access tweets from many users by using the Twitter API. Even though there is an agreement to use the Twitter API wisely, it will still damage the privacy of other users who don't want their tweets to be taken. Therefore, here we will implement Encrypted Twitter Dataset as a privacy protection from the user.\n",
    "\n",
    "And after we encrypt the Twitter dataset, we can still implement AI securely. Here, we will apply Topic Modeling to uncover abstract themes based on the underlying tweet documents and words in a corpus of text.\n",
    "\n",
    "The project consists of the following steps:\n",
    "1. Crawling Twitter Dataset\n",
    "2. Exploratory Data Analysis\n",
    "3. Implement Encrypted Twitter Dataset\n",
    "4. Topic Modelling"
   ]
  },
  {
   "cell_type": "markdown",
   "metadata": {},
   "source": [
    "# Step 1: Crawling Twitter Dataset"
   ]
  },
  {
   "cell_type": "code",
   "execution_count": 34,
   "metadata": {},
   "outputs": [
    {
     "data": {
      "text/html": [
       "        <script type=\"text/javascript\">\n",
       "        window.PlotlyConfig = {MathJaxConfig: 'local'};\n",
       "        if (window.MathJax) {MathJax.Hub.Config({SVG: {font: \"STIX-Web\"}});}\n",
       "        if (typeof require !== 'undefined') {\n",
       "        require.undef(\"plotly\");\n",
       "        requirejs.config({\n",
       "            paths: {\n",
       "                'plotly': ['https://cdn.plot.ly/plotly-latest.min']\n",
       "            }\n",
       "        });\n",
       "        require(['plotly'], function(Plotly) {\n",
       "            window._Plotly = Plotly;\n",
       "        });\n",
       "        }\n",
       "        </script>\n",
       "        "
      ]
     },
     "metadata": {},
     "output_type": "display_data"
    }
   ],
   "source": [
    "# import library\n",
    "\n",
    "import pandas as pd\n",
    "import numpy as np\n",
    "import matplotlib.pyplot as plt\n",
    "import string\n",
    "import time\n",
    "\n",
    "# import dotenv\n",
    "import os\n",
    "from dotenv import load_dotenv\n",
    "\n",
    "# import tweepy\n",
    "import tweepy\n",
    "\n",
    "# datetime\n",
    "from datetime import datetime, timedelta\n",
    "\n",
    "# plotly\n",
    "from plotly.offline import download_plotlyjs, init_notebook_mode, plot, iplot\n",
    "import plotly as py\n",
    "import plotly.graph_objs as go\n",
    "\n",
    "init_notebook_mode(connected=True) #do not miss this line\n",
    "\n",
    "# gensim\n",
    "from gensim import corpora, models, similarities\n",
    "\n",
    "import warnings\n",
    "warnings.filterwarnings(\"ignore\")"
   ]
  },
  {
   "cell_type": "markdown",
   "metadata": {},
   "source": [
    "We need Twitter API to crawl Twitter dataset. So, let's setting up for Twitter crawler first. "
   ]
  },
  {
   "cell_type": "code",
   "execution_count": 35,
   "metadata": {},
   "outputs": [],
   "source": [
    "# load env file\n",
    "load_dotenv(\".env\")\n",
    "\n",
    "# setting API Twitter\n",
    "TWITTER_API_KEY = os.getenv('TWITTER_API_KEY')\n",
    "TWITTER_API_SECRET_KEY = os.getenv('TWITTER_API_SECRET_KEY')\n",
    "TWITTER_ACCESS_TOKEN = os.getenv('TWITTER_ACCESS_TOKEN')\n",
    "TWITTER_ACCESS_TOKEN_SECRET = os.getenv('TWITTER_ACCESS_TOKEN_SECRET')\n",
    "\n",
    "auth = tweepy.OAuthHandler(TWITTER_API_KEY, TWITTER_API_SECRET_KEY)\n",
    "auth.set_access_token(TWITTER_ACCESS_TOKEN, TWITTER_ACCESS_TOKEN_SECRET)\n",
    "api = tweepy.API(auth, wait_on_rate_limit=True)"
   ]
  },
  {
   "cell_type": "markdown",
   "metadata": {},
   "source": [
    "In this project, we can setting up some parameters as follows:\n",
    "- **maximum_days:** the age of the tweet document from the current time.\n",
    "- **query:** keywords for searching tweet documents"
   ]
  },
  {
   "cell_type": "code",
   "execution_count": 36,
   "metadata": {},
   "outputs": [],
   "source": [
    "# initialize crawler parameters\n",
    "\n",
    "# date\n",
    "maximum_days = 7 # 7 days, so we will get all of the tweet documents from 7 days before\n",
    "today = datetime.today()\n",
    "date_max = today - timedelta(days=maximum_days)\n",
    "\n",
    "# query\n",
    "query = \"#Udacity OR #udacity OR Udacity OR udacity\""
   ]
  },
  {
   "cell_type": "markdown",
   "metadata": {},
   "source": [
    "Next, we will save the results of crawling the tweet document into the <code>pandas dataframe</code> .\n",
    "\n",
    "The fields from the tweet document that we will obtain are as follows:\n",
    "- **username:** users\n",
    "- **created_at:** the date when the tweet created\n",
    "- **text:** text of the tweet"
   ]
  },
  {
   "cell_type": "code",
   "execution_count": 37,
   "metadata": {},
   "outputs": [],
   "source": [
    "# initialize dataframe\n",
    "df_tweet = pd.DataFrame({'username': [], 'created_at': [], 'text': []})\n",
    "\n",
    "# crawling tweet documents\n",
    "c = tweepy.Cursor(api.search, q=query, tweet_mode='extended').items()\n",
    "while True:\n",
    "    try:\n",
    "        tweet = c.next()\n",
    "        \n",
    "        # get clean tweet without RT\n",
    "        if (not tweet.retweeted) and ('RT @' not in tweet.full_text):\n",
    "            username = tweet.user.screen_name\n",
    "            created = tweet.created_at\n",
    "            text = tweet.full_text.encode('utf-8', 'ignore').decode('utf-8', 'ignore')\n",
    "\n",
    "            # get tweet documents before maximum_days\n",
    "            if tweet.created_at < date_max:\n",
    "                break\n",
    "            df_tweet = df_tweet.append({'username': username, 'created_at': created, \n",
    "                                        'text': text}, ignore_index=True)\n",
    "                       \n",
    "    except tweepy.TweepError as e:\n",
    "        print(e.reason)\n",
    "        time.sleep(15 * 60)\n",
    "        continue\n",
    "    except StopIteration:\n",
    "        break"
   ]
  },
  {
   "cell_type": "markdown",
   "metadata": {},
   "source": [
    "# Step 2: Exploratory Data Analysis"
   ]
  },
  {
   "cell_type": "code",
   "execution_count": 38,
   "metadata": {},
   "outputs": [
    {
     "data": {
      "text/html": [
       "<div>\n",
       "<style scoped>\n",
       "    .dataframe tbody tr th:only-of-type {\n",
       "        vertical-align: middle;\n",
       "    }\n",
       "\n",
       "    .dataframe tbody tr th {\n",
       "        vertical-align: top;\n",
       "    }\n",
       "\n",
       "    .dataframe thead th {\n",
       "        text-align: right;\n",
       "    }\n",
       "</style>\n",
       "<table border=\"1\" class=\"dataframe\">\n",
       "  <thead>\n",
       "    <tr style=\"text-align: right;\">\n",
       "      <th></th>\n",
       "      <th>username</th>\n",
       "      <th>created_at</th>\n",
       "      <th>text</th>\n",
       "    </tr>\n",
       "  </thead>\n",
       "  <tbody>\n",
       "    <tr>\n",
       "      <th>0</th>\n",
       "      <td>JustNowBulletin</td>\n",
       "      <td>2019-08-20 14:20:11</td>\n",
       "      <td>Udacity AWS DeepRacer Scholarship Challenge fo...</td>\n",
       "    </tr>\n",
       "    <tr>\n",
       "      <th>1</th>\n",
       "      <td>sustaintrain</td>\n",
       "      <td>2019-08-20 14:15:10</td>\n",
       "      <td>A new Udacity Green IT training course has bee...</td>\n",
       "    </tr>\n",
       "    <tr>\n",
       "      <th>2</th>\n",
       "      <td>Upwork</td>\n",
       "      <td>2019-08-20 13:20:49</td>\n",
       "      <td>Back to School Isn’t Just For Kids: 20 Courses...</td>\n",
       "    </tr>\n",
       "    <tr>\n",
       "      <th>3</th>\n",
       "      <td>frengki_17</td>\n",
       "      <td>2019-08-20 13:17:23</td>\n",
       "      <td>@onnowpurbo Belajar tensorflow yang di udacity...</td>\n",
       "    </tr>\n",
       "    <tr>\n",
       "      <th>4</th>\n",
       "      <td>javaquantum</td>\n",
       "      <td>2019-08-20 13:14:13</td>\n",
       "      <td>@xsahil03x @GoogleIndia @udacity Congratulatio...</td>\n",
       "    </tr>\n",
       "    <tr>\n",
       "      <th>5</th>\n",
       "      <td>RahulSi88662093</td>\n",
       "      <td>2019-08-20 13:08:38</td>\n",
       "      <td>@anandjha_98 @kala83 @Google @udacity Please r...</td>\n",
       "    </tr>\n",
       "    <tr>\n",
       "      <th>6</th>\n",
       "      <td>MaramAlroshoud</td>\n",
       "      <td>2019-08-20 12:49:10</td>\n",
       "      <td>وشو مسك يوداستي؟ — https://t.co/UC0Y4m9Foo htt...</td>\n",
       "    </tr>\n",
       "    <tr>\n",
       "      <th>7</th>\n",
       "      <td>SafeScholarship</td>\n",
       "      <td>2019-08-20 12:29:52</td>\n",
       "      <td>Udacity AWS DeepRacer Scholarship Challenge fo...</td>\n",
       "    </tr>\n",
       "    <tr>\n",
       "      <th>8</th>\n",
       "      <td>0xAlsharif</td>\n",
       "      <td>2019-08-20 12:29:09</td>\n",
       "      <td>Networking for Web Developers. https://t.co/Hf...</td>\n",
       "    </tr>\n",
       "    <tr>\n",
       "      <th>9</th>\n",
       "      <td>0xAlsharif</td>\n",
       "      <td>2019-08-20 12:19:33</td>\n",
       "      <td>تحية وتقدير للمواقع والمصادر التعليمية اللي تج...</td>\n",
       "    </tr>\n",
       "  </tbody>\n",
       "</table>\n",
       "</div>"
      ],
      "text/plain": [
       "          username          created_at  \\\n",
       "0  JustNowBulletin 2019-08-20 14:20:11   \n",
       "1     sustaintrain 2019-08-20 14:15:10   \n",
       "2           Upwork 2019-08-20 13:20:49   \n",
       "3       frengki_17 2019-08-20 13:17:23   \n",
       "4      javaquantum 2019-08-20 13:14:13   \n",
       "5  RahulSi88662093 2019-08-20 13:08:38   \n",
       "6   MaramAlroshoud 2019-08-20 12:49:10   \n",
       "7  SafeScholarship 2019-08-20 12:29:52   \n",
       "8       0xAlsharif 2019-08-20 12:29:09   \n",
       "9       0xAlsharif 2019-08-20 12:19:33   \n",
       "\n",
       "                                                text  \n",
       "0  Udacity AWS DeepRacer Scholarship Challenge fo...  \n",
       "1  A new Udacity Green IT training course has bee...  \n",
       "2  Back to School Isn’t Just For Kids: 20 Courses...  \n",
       "3  @onnowpurbo Belajar tensorflow yang di udacity...  \n",
       "4  @xsahil03x @GoogleIndia @udacity Congratulatio...  \n",
       "5  @anandjha_98 @kala83 @Google @udacity Please r...  \n",
       "6  وشو مسك يوداستي؟ — https://t.co/UC0Y4m9Foo htt...  \n",
       "7  Udacity AWS DeepRacer Scholarship Challenge fo...  \n",
       "8  Networking for Web Developers. https://t.co/Hf...  \n",
       "9  تحية وتقدير للمواقع والمصادر التعليمية اللي تج...  "
      ]
     },
     "execution_count": 38,
     "metadata": {},
     "output_type": "execute_result"
    }
   ],
   "source": [
    "# let's see our twitter dataset\n",
    "df_tweet.head(10)"
   ]
  },
  {
   "cell_type": "code",
   "execution_count": 39,
   "metadata": {},
   "outputs": [
    {
     "name": "stdout",
     "output_type": "stream",
     "text": [
      "The number of tweet documents: 493\n"
     ]
    }
   ],
   "source": [
    "# let's counting how many tweet documents that we got\n",
    "print(\"The number of tweet documents:\", len(df_tweet['text']))"
   ]
  },
  {
   "cell_type": "markdown",
   "metadata": {},
   "source": [
    "## Visualizing The Number of Tweets for each day"
   ]
  },
  {
   "cell_type": "code",
   "execution_count": 40,
   "metadata": {},
   "outputs": [
    {
     "data": {
      "application/vnd.plotly.v1+json": {
       "config": {
        "linkText": "Export to plot.ly",
        "plotlyServerURL": "https://plot.ly",
        "showLink": false
       },
       "data": [
        {
         "marker": {
          "color": "blue"
         },
         "opacity": 0.75,
         "type": "histogram",
         "x": [
          "2019-08-20T14:20:11",
          "2019-08-20T14:15:10",
          "2019-08-20T13:20:49",
          "2019-08-20T13:17:23",
          "2019-08-20T13:14:13",
          "2019-08-20T13:08:38",
          "2019-08-20T12:49:10",
          "2019-08-20T12:29:52",
          "2019-08-20T12:29:09",
          "2019-08-20T12:19:33",
          "2019-08-20T11:56:06",
          "2019-08-20T11:55:40",
          "2019-08-20T11:47:58",
          "2019-08-20T11:04:28",
          "2019-08-20T09:09:11",
          "2019-08-20T07:40:02",
          "2019-08-20T07:23:02",
          "2019-08-20T07:10:02",
          "2019-08-20T06:47:44",
          "2019-08-20T06:39:01",
          "2019-08-20T05:56:57",
          "2019-08-20T05:13:20",
          "2019-08-20T04:36:32",
          "2019-08-20T04:33:32",
          "2019-08-20T04:03:08",
          "2019-08-20T03:46:31",
          "2019-08-20T03:44:14",
          "2019-08-20T03:40:56",
          "2019-08-20T03:28:33",
          "2019-08-20T02:50:02",
          "2019-08-20T02:28:57",
          "2019-08-20T02:16:14",
          "2019-08-20T02:14:38",
          "2019-08-20T02:00:27",
          "2019-08-20T02:00:02",
          "2019-08-20T01:54:07",
          "2019-08-20T01:34:01",
          "2019-08-20T01:28:00",
          "2019-08-20T01:13:03",
          "2019-08-20T01:13:01",
          "2019-08-20T01:05:33",
          "2019-08-20T00:54:09",
          "2019-08-20T00:47:07",
          "2019-08-20T00:29:09",
          "2019-08-19T23:50:59",
          "2019-08-19T23:00:03",
          "2019-08-19T22:35:19",
          "2019-08-19T22:28:06",
          "2019-08-19T22:19:16",
          "2019-08-19T21:08:48",
          "2019-08-19T21:00:08",
          "2019-08-19T20:49:48",
          "2019-08-19T19:57:24",
          "2019-08-19T19:55:10",
          "2019-08-19T19:41:41",
          "2019-08-19T19:39:28",
          "2019-08-19T19:32:50",
          "2019-08-19T19:25:05",
          "2019-08-19T19:15:09",
          "2019-08-19T18:34:24",
          "2019-08-19T18:34:16",
          "2019-08-19T18:25:52",
          "2019-08-19T18:18:12",
          "2019-08-19T18:15:07",
          "2019-08-19T18:08:12",
          "2019-08-19T17:54:49",
          "2019-08-19T17:43:33",
          "2019-08-19T17:38:17",
          "2019-08-19T17:35:44",
          "2019-08-19T17:11:28",
          "2019-08-19T17:06:26",
          "2019-08-19T17:00:20",
          "2019-08-19T16:44:14",
          "2019-08-19T16:43:39",
          "2019-08-19T16:32:27",
          "2019-08-19T16:27:01",
          "2019-08-19T16:22:32",
          "2019-08-19T16:22:17",
          "2019-08-19T16:16:12",
          "2019-08-19T16:15:09",
          "2019-08-19T16:12:52",
          "2019-08-19T16:12:23",
          "2019-08-19T16:09:00",
          "2019-08-19T15:52:03",
          "2019-08-19T15:46:59",
          "2019-08-19T15:40:21",
          "2019-08-19T15:26:17",
          "2019-08-19T15:24:44",
          "2019-08-19T15:23:28",
          "2019-08-19T15:17:57",
          "2019-08-19T15:16:48",
          "2019-08-19T15:09:42",
          "2019-08-19T14:58:38",
          "2019-08-19T14:53:21",
          "2019-08-19T14:38:42",
          "2019-08-19T14:21:00",
          "2019-08-19T14:18:34",
          "2019-08-19T14:12:26",
          "2019-08-19T13:53:37",
          "2019-08-19T12:11:14",
          "2019-08-19T12:00:01",
          "2019-08-19T11:41:22",
          "2019-08-19T11:40:36",
          "2019-08-19T11:00:01",
          "2019-08-19T10:35:54",
          "2019-08-19T10:16:30",
          "2019-08-19T09:03:41",
          "2019-08-19T07:54:03",
          "2019-08-19T07:02:35",
          "2019-08-19T06:19:11",
          "2019-08-19T06:09:27",
          "2019-08-19T06:06:59",
          "2019-08-19T05:03:21",
          "2019-08-19T05:03:05",
          "2019-08-19T03:55:35",
          "2019-08-19T01:58:23",
          "2019-08-19T01:53:31",
          "2019-08-19T01:48:26",
          "2019-08-19T01:45:51",
          "2019-08-19T01:13:07",
          "2019-08-19T00:31:08",
          "2019-08-19T00:17:22",
          "2019-08-18T23:22:21",
          "2019-08-18T23:01:54",
          "2019-08-18T22:54:33",
          "2019-08-18T21:00:04",
          "2019-08-18T20:51:24",
          "2019-08-18T20:25:35",
          "2019-08-18T19:44:01",
          "2019-08-18T19:44:00",
          "2019-08-18T19:09:04",
          "2019-08-18T19:00:05",
          "2019-08-18T18:21:12",
          "2019-08-18T18:15:13",
          "2019-08-18T18:15:07",
          "2019-08-18T18:06:13",
          "2019-08-18T18:00:09",
          "2019-08-18T17:59:10",
          "2019-08-18T17:56:21",
          "2019-08-18T17:17:51",
          "2019-08-18T17:12:10",
          "2019-08-18T17:10:25",
          "2019-08-18T17:03:21",
          "2019-08-18T17:01:03",
          "2019-08-18T17:01:01",
          "2019-08-18T16:43:44",
          "2019-08-18T16:37:03",
          "2019-08-18T16:36:39",
          "2019-08-18T16:15:07",
          "2019-08-18T16:02:12",
          "2019-08-18T15:52:10",
          "2019-08-18T15:38:14",
          "2019-08-18T15:09:45",
          "2019-08-18T14:29:27",
          "2019-08-18T14:29:18",
          "2019-08-18T14:14:19",
          "2019-08-18T14:11:49",
          "2019-08-18T13:57:39",
          "2019-08-18T13:24:20",
          "2019-08-18T12:22:54",
          "2019-08-18T12:05:02",
          "2019-08-18T12:00:24",
          "2019-08-18T11:41:30",
          "2019-08-18T11:25:13",
          "2019-08-18T11:25:12",
          "2019-08-18T11:25:12",
          "2019-08-18T10:34:30",
          "2019-08-18T09:37:18",
          "2019-08-18T09:33:28",
          "2019-08-18T07:37:13",
          "2019-08-18T06:33:47",
          "2019-08-18T06:21:12",
          "2019-08-18T05:04:38",
          "2019-08-18T05:00:51",
          "2019-08-18T03:42:11",
          "2019-08-18T03:16:30",
          "2019-08-18T02:19:28",
          "2019-08-18T01:46:59",
          "2019-08-18T01:12:38",
          "2019-08-17T23:50:18",
          "2019-08-17T23:42:23",
          "2019-08-17T22:52:00",
          "2019-08-17T21:12:06",
          "2019-08-17T21:00:04",
          "2019-08-17T20:49:02",
          "2019-08-17T20:43:54",
          "2019-08-17T20:28:26",
          "2019-08-17T20:14:29",
          "2019-08-17T19:34:52",
          "2019-08-17T19:24:38",
          "2019-08-17T19:00:11",
          "2019-08-17T18:38:19",
          "2019-08-17T18:37:04",
          "2019-08-17T18:35:02",
          "2019-08-17T18:15:08",
          "2019-08-17T18:02:53",
          "2019-08-17T17:57:56",
          "2019-08-17T17:44:08",
          "2019-08-17T17:32:34",
          "2019-08-17T17:04:59",
          "2019-08-17T17:03:41",
          "2019-08-17T17:00:18",
          "2019-08-17T16:58:30",
          "2019-08-17T16:47:00",
          "2019-08-17T16:37:49",
          "2019-08-17T16:37:23",
          "2019-08-17T16:16:15",
          "2019-08-17T16:12:05",
          "2019-08-17T15:51:38",
          "2019-08-17T15:46:16",
          "2019-08-17T15:34:20",
          "2019-08-17T15:30:03",
          "2019-08-17T15:12:05",
          "2019-08-17T15:10:51",
          "2019-08-17T15:00:23",
          "2019-08-17T14:58:34",
          "2019-08-17T14:30:54",
          "2019-08-17T14:15:07",
          "2019-08-17T14:12:23",
          "2019-08-17T13:16:31",
          "2019-08-17T13:06:25",
          "2019-08-17T13:01:45",
          "2019-08-17T12:56:46",
          "2019-08-17T12:25:46",
          "2019-08-17T12:04:54",
          "2019-08-17T10:12:17",
          "2019-08-17T10:09:07",
          "2019-08-17T09:59:45",
          "2019-08-17T09:33:00",
          "2019-08-17T09:30:57",
          "2019-08-17T08:34:19",
          "2019-08-17T08:22:42",
          "2019-08-17T07:57:47",
          "2019-08-17T06:12:14",
          "2019-08-17T06:11:53",
          "2019-08-17T06:11:17",
          "2019-08-17T06:11:16",
          "2019-08-17T06:01:01",
          "2019-08-17T05:34:13",
          "2019-08-17T05:19:49",
          "2019-08-17T03:30:56",
          "2019-08-17T03:23:31",
          "2019-08-17T02:11:48",
          "2019-08-17T02:00:03",
          "2019-08-17T01:22:07",
          "2019-08-17T00:58:05",
          "2019-08-17T00:09:37",
          "2019-08-17T00:05:07",
          "2019-08-17T00:04:42",
          "2019-08-16T23:51:12",
          "2019-08-16T23:01:49",
          "2019-08-16T22:05:42",
          "2019-08-16T22:05:01",
          "2019-08-16T21:55:36",
          "2019-08-16T21:44:07",
          "2019-08-16T21:23:45",
          "2019-08-16T21:00:08",
          "2019-08-16T20:52:31",
          "2019-08-16T20:35:02",
          "2019-08-16T20:25:59",
          "2019-08-16T20:10:49",
          "2019-08-16T20:00:08",
          "2019-08-16T19:48:30",
          "2019-08-16T19:27:45",
          "2019-08-16T19:12:09",
          "2019-08-16T19:11:48",
          "2019-08-16T19:03:49",
          "2019-08-16T18:58:21",
          "2019-08-16T18:47:23",
          "2019-08-16T18:46:06",
          "2019-08-16T18:34:12",
          "2019-08-16T18:08:03",
          "2019-08-16T18:05:23",
          "2019-08-16T17:55:54",
          "2019-08-16T17:48:06",
          "2019-08-16T17:00:17",
          "2019-08-16T16:55:16",
          "2019-08-16T16:34:36",
          "2019-08-16T16:32:38",
          "2019-08-16T16:15:12",
          "2019-08-16T15:34:40",
          "2019-08-16T15:26:33",
          "2019-08-16T15:25:53",
          "2019-08-16T15:10:29",
          "2019-08-16T15:00:22",
          "2019-08-16T14:59:08",
          "2019-08-16T14:15:12",
          "2019-08-16T14:03:18",
          "2019-08-16T13:24:25",
          "2019-08-16T13:23:48",
          "2019-08-16T13:16:54",
          "2019-08-16T13:14:23",
          "2019-08-16T11:55:51",
          "2019-08-16T11:55:07",
          "2019-08-16T10:25:08",
          "2019-08-16T10:18:27",
          "2019-08-16T09:17:12",
          "2019-08-16T08:30:17",
          "2019-08-16T08:05:16",
          "2019-08-16T08:03:55",
          "2019-08-16T08:01:30",
          "2019-08-16T07:48:00",
          "2019-08-16T07:30:08",
          "2019-08-16T06:40:17",
          "2019-08-16T05:51:06",
          "2019-08-16T05:35:06",
          "2019-08-16T05:27:20",
          "2019-08-16T04:43:15",
          "2019-08-16T04:17:25",
          "2019-08-16T04:12:21",
          "2019-08-16T03:38:04",
          "2019-08-16T03:10:24",
          "2019-08-16T02:33:51",
          "2019-08-16T02:28:17",
          "2019-08-16T02:10:35",
          "2019-08-16T02:00:04",
          "2019-08-16T01:52:37",
          "2019-08-16T01:46:47",
          "2019-08-16T01:39:01",
          "2019-08-16T01:30:11",
          "2019-08-15T23:53:45",
          "2019-08-15T23:46:25",
          "2019-08-15T23:13:34",
          "2019-08-15T23:00:11",
          "2019-08-15T22:47:27",
          "2019-08-15T22:23:43",
          "2019-08-15T21:44:22",
          "2019-08-15T21:19:57",
          "2019-08-15T21:15:12",
          "2019-08-15T21:00:09",
          "2019-08-15T20:19:44",
          "2019-08-15T20:08:11",
          "2019-08-15T20:02:17",
          "2019-08-15T19:29:58",
          "2019-08-15T19:00:18",
          "2019-08-15T18:53:47",
          "2019-08-15T18:18:56",
          "2019-08-15T18:17:16",
          "2019-08-15T18:15:13",
          "2019-08-15T18:07:46",
          "2019-08-15T18:01:48",
          "2019-08-15T17:52:59",
          "2019-08-15T17:50:17",
          "2019-08-15T17:49:07",
          "2019-08-15T17:46:13",
          "2019-08-15T17:34:31",
          "2019-08-15T17:28:59",
          "2019-08-15T17:12:20",
          "2019-08-15T17:08:09",
          "2019-08-15T17:02:03",
          "2019-08-15T17:01:07",
          "2019-08-15T17:00:24",
          "2019-08-15T16:53:47",
          "2019-08-15T16:49:01",
          "2019-08-15T16:18:15",
          "2019-08-15T16:15:13",
          "2019-08-15T16:01:27",
          "2019-08-15T15:56:00",
          "2019-08-15T15:43:56",
          "2019-08-15T15:01:00",
          "2019-08-15T15:00:17",
          "2019-08-15T14:42:54",
          "2019-08-15T14:20:28",
          "2019-08-15T14:17:52",
          "2019-08-15T13:57:03",
          "2019-08-15T13:57:02",
          "2019-08-15T13:49:41",
          "2019-08-15T13:45:32",
          "2019-08-15T13:44:25",
          "2019-08-15T13:37:12",
          "2019-08-15T13:28:45",
          "2019-08-15T12:42:46",
          "2019-08-15T11:03:20",
          "2019-08-15T09:59:29",
          "2019-08-15T09:59:06",
          "2019-08-15T09:20:36",
          "2019-08-15T09:17:42",
          "2019-08-15T08:59:34",
          "2019-08-15T07:04:33",
          "2019-08-15T07:03:15",
          "2019-08-15T06:52:19",
          "2019-08-15T06:31:15",
          "2019-08-15T06:30:41",
          "2019-08-15T06:30:27",
          "2019-08-15T06:29:53",
          "2019-08-15T06:29:27",
          "2019-08-15T06:28:27",
          "2019-08-15T06:27:57",
          "2019-08-15T06:27:17",
          "2019-08-15T06:26:47",
          "2019-08-15T06:26:03",
          "2019-08-15T06:21:38",
          "2019-08-15T06:21:05",
          "2019-08-15T06:20:38",
          "2019-08-15T04:25:18",
          "2019-08-15T04:00:01",
          "2019-08-15T03:59:07",
          "2019-08-15T02:12:49",
          "2019-08-15T02:07:37",
          "2019-08-15T02:00:04",
          "2019-08-15T01:52:58",
          "2019-08-15T01:47:22",
          "2019-08-15T00:42:53",
          "2019-08-15T00:05:33",
          "2019-08-14T23:14:11",
          "2019-08-14T23:13:20",
          "2019-08-14T23:12:55",
          "2019-08-14T23:02:35",
          "2019-08-14T23:00:06",
          "2019-08-14T22:34:23",
          "2019-08-14T22:11:12",
          "2019-08-14T22:07:30",
          "2019-08-14T21:54:54",
          "2019-08-14T21:41:03",
          "2019-08-14T21:00:08",
          "2019-08-14T20:49:52",
          "2019-08-14T20:42:58",
          "2019-08-14T20:25:42",
          "2019-08-14T20:22:35",
          "2019-08-14T20:19:01",
          "2019-08-14T20:15:11",
          "2019-08-14T19:13:44",
          "2019-08-14T18:53:05",
          "2019-08-14T18:37:19",
          "2019-08-14T18:36:47",
          "2019-08-14T18:36:43",
          "2019-08-14T18:26:49",
          "2019-08-14T18:24:54",
          "2019-08-14T18:21:47",
          "2019-08-14T18:20:16",
          "2019-08-14T18:18:41",
          "2019-08-14T17:54:53",
          "2019-08-14T17:52:50",
          "2019-08-14T17:45:14",
          "2019-08-14T17:44:30",
          "2019-08-14T17:17:33",
          "2019-08-14T17:00:20",
          "2019-08-14T15:53:13",
          "2019-08-14T15:47:51",
          "2019-08-14T15:33:50",
          "2019-08-14T15:31:57",
          "2019-08-14T15:11:39",
          "2019-08-14T15:00:20",
          "2019-08-14T14:20:22",
          "2019-08-14T14:15:11",
          "2019-08-14T13:59:05",
          "2019-08-14T13:55:48",
          "2019-08-14T13:18:45",
          "2019-08-14T12:58:26",
          "2019-08-14T12:27:35",
          "2019-08-14T12:01:21",
          "2019-08-14T11:38:44",
          "2019-08-14T11:34:58",
          "2019-08-14T11:26:01",
          "2019-08-14T11:24:26",
          "2019-08-14T11:20:55",
          "2019-08-14T11:20:37",
          "2019-08-14T10:56:51",
          "2019-08-14T10:56:17",
          "2019-08-14T10:44:53",
          "2019-08-14T10:24:14",
          "2019-08-14T09:07:23",
          "2019-08-14T08:30:57",
          "2019-08-14T08:17:24",
          "2019-08-14T07:34:59",
          "2019-08-14T07:05:47",
          "2019-08-14T07:04:10",
          "2019-08-14T07:00:45",
          "2019-08-14T06:19:43",
          "2019-08-14T06:13:49",
          "2019-08-14T05:54:41",
          "2019-08-14T05:45:02",
          "2019-08-14T05:15:32",
          "2019-08-14T05:02:52",
          "2019-08-14T04:40:41",
          "2019-08-14T04:11:21",
          "2019-08-14T03:15:10",
          "2019-08-14T03:01:55",
          "2019-08-14T02:09:27",
          "2019-08-14T02:00:03",
          "2019-08-14T01:56:07",
          "2019-08-14T01:40:30",
          "2019-08-14T01:19:53",
          "2019-08-14T01:06:25",
          "2019-08-14T01:03:37",
          "2019-08-14T00:57:33",
          "2019-08-14T00:25:22",
          "2019-08-14T00:02:35",
          "2019-08-13T23:54:24",
          "2019-08-13T22:25:51",
          "2019-08-13T22:17:48",
          "2019-08-13T22:17:14",
          "2019-08-13T22:14:52"
         ]
        }
       ],
       "layout": {
        "bargap": 0.2,
        "height": 450,
        "template": {
         "data": {
          "bar": [
           {
            "error_x": {
             "color": "#2a3f5f"
            },
            "error_y": {
             "color": "#2a3f5f"
            },
            "marker": {
             "line": {
              "color": "#E5ECF6",
              "width": 0.5
             }
            },
            "type": "bar"
           }
          ],
          "barpolar": [
           {
            "marker": {
             "line": {
              "color": "#E5ECF6",
              "width": 0.5
             }
            },
            "type": "barpolar"
           }
          ],
          "carpet": [
           {
            "aaxis": {
             "endlinecolor": "#2a3f5f",
             "gridcolor": "white",
             "linecolor": "white",
             "minorgridcolor": "white",
             "startlinecolor": "#2a3f5f"
            },
            "baxis": {
             "endlinecolor": "#2a3f5f",
             "gridcolor": "white",
             "linecolor": "white",
             "minorgridcolor": "white",
             "startlinecolor": "#2a3f5f"
            },
            "type": "carpet"
           }
          ],
          "choropleth": [
           {
            "colorbar": {
             "outlinewidth": 0,
             "ticks": ""
            },
            "type": "choropleth"
           }
          ],
          "contour": [
           {
            "colorbar": {
             "outlinewidth": 0,
             "ticks": ""
            },
            "colorscale": [
             [
              0,
              "#0d0887"
             ],
             [
              0.1111111111111111,
              "#46039f"
             ],
             [
              0.2222222222222222,
              "#7201a8"
             ],
             [
              0.3333333333333333,
              "#9c179e"
             ],
             [
              0.4444444444444444,
              "#bd3786"
             ],
             [
              0.5555555555555556,
              "#d8576b"
             ],
             [
              0.6666666666666666,
              "#ed7953"
             ],
             [
              0.7777777777777778,
              "#fb9f3a"
             ],
             [
              0.8888888888888888,
              "#fdca26"
             ],
             [
              1,
              "#f0f921"
             ]
            ],
            "type": "contour"
           }
          ],
          "contourcarpet": [
           {
            "colorbar": {
             "outlinewidth": 0,
             "ticks": ""
            },
            "type": "contourcarpet"
           }
          ],
          "heatmap": [
           {
            "colorbar": {
             "outlinewidth": 0,
             "ticks": ""
            },
            "colorscale": [
             [
              0,
              "#0d0887"
             ],
             [
              0.1111111111111111,
              "#46039f"
             ],
             [
              0.2222222222222222,
              "#7201a8"
             ],
             [
              0.3333333333333333,
              "#9c179e"
             ],
             [
              0.4444444444444444,
              "#bd3786"
             ],
             [
              0.5555555555555556,
              "#d8576b"
             ],
             [
              0.6666666666666666,
              "#ed7953"
             ],
             [
              0.7777777777777778,
              "#fb9f3a"
             ],
             [
              0.8888888888888888,
              "#fdca26"
             ],
             [
              1,
              "#f0f921"
             ]
            ],
            "type": "heatmap"
           }
          ],
          "heatmapgl": [
           {
            "colorbar": {
             "outlinewidth": 0,
             "ticks": ""
            },
            "colorscale": [
             [
              0,
              "#0d0887"
             ],
             [
              0.1111111111111111,
              "#46039f"
             ],
             [
              0.2222222222222222,
              "#7201a8"
             ],
             [
              0.3333333333333333,
              "#9c179e"
             ],
             [
              0.4444444444444444,
              "#bd3786"
             ],
             [
              0.5555555555555556,
              "#d8576b"
             ],
             [
              0.6666666666666666,
              "#ed7953"
             ],
             [
              0.7777777777777778,
              "#fb9f3a"
             ],
             [
              0.8888888888888888,
              "#fdca26"
             ],
             [
              1,
              "#f0f921"
             ]
            ],
            "type": "heatmapgl"
           }
          ],
          "histogram": [
           {
            "marker": {
             "colorbar": {
              "outlinewidth": 0,
              "ticks": ""
             }
            },
            "type": "histogram"
           }
          ],
          "histogram2d": [
           {
            "colorbar": {
             "outlinewidth": 0,
             "ticks": ""
            },
            "colorscale": [
             [
              0,
              "#0d0887"
             ],
             [
              0.1111111111111111,
              "#46039f"
             ],
             [
              0.2222222222222222,
              "#7201a8"
             ],
             [
              0.3333333333333333,
              "#9c179e"
             ],
             [
              0.4444444444444444,
              "#bd3786"
             ],
             [
              0.5555555555555556,
              "#d8576b"
             ],
             [
              0.6666666666666666,
              "#ed7953"
             ],
             [
              0.7777777777777778,
              "#fb9f3a"
             ],
             [
              0.8888888888888888,
              "#fdca26"
             ],
             [
              1,
              "#f0f921"
             ]
            ],
            "type": "histogram2d"
           }
          ],
          "histogram2dcontour": [
           {
            "colorbar": {
             "outlinewidth": 0,
             "ticks": ""
            },
            "colorscale": [
             [
              0,
              "#0d0887"
             ],
             [
              0.1111111111111111,
              "#46039f"
             ],
             [
              0.2222222222222222,
              "#7201a8"
             ],
             [
              0.3333333333333333,
              "#9c179e"
             ],
             [
              0.4444444444444444,
              "#bd3786"
             ],
             [
              0.5555555555555556,
              "#d8576b"
             ],
             [
              0.6666666666666666,
              "#ed7953"
             ],
             [
              0.7777777777777778,
              "#fb9f3a"
             ],
             [
              0.8888888888888888,
              "#fdca26"
             ],
             [
              1,
              "#f0f921"
             ]
            ],
            "type": "histogram2dcontour"
           }
          ],
          "mesh3d": [
           {
            "colorbar": {
             "outlinewidth": 0,
             "ticks": ""
            },
            "type": "mesh3d"
           }
          ],
          "parcoords": [
           {
            "line": {
             "colorbar": {
              "outlinewidth": 0,
              "ticks": ""
             }
            },
            "type": "parcoords"
           }
          ],
          "scatter": [
           {
            "marker": {
             "colorbar": {
              "outlinewidth": 0,
              "ticks": ""
             }
            },
            "type": "scatter"
           }
          ],
          "scatter3d": [
           {
            "line": {
             "colorbar": {
              "outlinewidth": 0,
              "ticks": ""
             }
            },
            "marker": {
             "colorbar": {
              "outlinewidth": 0,
              "ticks": ""
             }
            },
            "type": "scatter3d"
           }
          ],
          "scattercarpet": [
           {
            "marker": {
             "colorbar": {
              "outlinewidth": 0,
              "ticks": ""
             }
            },
            "type": "scattercarpet"
           }
          ],
          "scattergeo": [
           {
            "marker": {
             "colorbar": {
              "outlinewidth": 0,
              "ticks": ""
             }
            },
            "type": "scattergeo"
           }
          ],
          "scattergl": [
           {
            "marker": {
             "colorbar": {
              "outlinewidth": 0,
              "ticks": ""
             }
            },
            "type": "scattergl"
           }
          ],
          "scattermapbox": [
           {
            "marker": {
             "colorbar": {
              "outlinewidth": 0,
              "ticks": ""
             }
            },
            "type": "scattermapbox"
           }
          ],
          "scatterpolar": [
           {
            "marker": {
             "colorbar": {
              "outlinewidth": 0,
              "ticks": ""
             }
            },
            "type": "scatterpolar"
           }
          ],
          "scatterpolargl": [
           {
            "marker": {
             "colorbar": {
              "outlinewidth": 0,
              "ticks": ""
             }
            },
            "type": "scatterpolargl"
           }
          ],
          "scatterternary": [
           {
            "marker": {
             "colorbar": {
              "outlinewidth": 0,
              "ticks": ""
             }
            },
            "type": "scatterternary"
           }
          ],
          "surface": [
           {
            "colorbar": {
             "outlinewidth": 0,
             "ticks": ""
            },
            "colorscale": [
             [
              0,
              "#0d0887"
             ],
             [
              0.1111111111111111,
              "#46039f"
             ],
             [
              0.2222222222222222,
              "#7201a8"
             ],
             [
              0.3333333333333333,
              "#9c179e"
             ],
             [
              0.4444444444444444,
              "#bd3786"
             ],
             [
              0.5555555555555556,
              "#d8576b"
             ],
             [
              0.6666666666666666,
              "#ed7953"
             ],
             [
              0.7777777777777778,
              "#fb9f3a"
             ],
             [
              0.8888888888888888,
              "#fdca26"
             ],
             [
              1,
              "#f0f921"
             ]
            ],
            "type": "surface"
           }
          ],
          "table": [
           {
            "cells": {
             "fill": {
              "color": "#EBF0F8"
             },
             "line": {
              "color": "white"
             }
            },
            "header": {
             "fill": {
              "color": "#C8D4E3"
             },
             "line": {
              "color": "white"
             }
            },
            "type": "table"
           }
          ]
         },
         "layout": {
          "annotationdefaults": {
           "arrowcolor": "#2a3f5f",
           "arrowhead": 0,
           "arrowwidth": 1
          },
          "colorscale": {
           "diverging": [
            [
             0,
             "#8e0152"
            ],
            [
             0.1,
             "#c51b7d"
            ],
            [
             0.2,
             "#de77ae"
            ],
            [
             0.3,
             "#f1b6da"
            ],
            [
             0.4,
             "#fde0ef"
            ],
            [
             0.5,
             "#f7f7f7"
            ],
            [
             0.6,
             "#e6f5d0"
            ],
            [
             0.7,
             "#b8e186"
            ],
            [
             0.8,
             "#7fbc41"
            ],
            [
             0.9,
             "#4d9221"
            ],
            [
             1,
             "#276419"
            ]
           ],
           "sequential": [
            [
             0,
             "#0d0887"
            ],
            [
             0.1111111111111111,
             "#46039f"
            ],
            [
             0.2222222222222222,
             "#7201a8"
            ],
            [
             0.3333333333333333,
             "#9c179e"
            ],
            [
             0.4444444444444444,
             "#bd3786"
            ],
            [
             0.5555555555555556,
             "#d8576b"
            ],
            [
             0.6666666666666666,
             "#ed7953"
            ],
            [
             0.7777777777777778,
             "#fb9f3a"
            ],
            [
             0.8888888888888888,
             "#fdca26"
            ],
            [
             1,
             "#f0f921"
            ]
           ],
           "sequentialminus": [
            [
             0,
             "#0d0887"
            ],
            [
             0.1111111111111111,
             "#46039f"
            ],
            [
             0.2222222222222222,
             "#7201a8"
            ],
            [
             0.3333333333333333,
             "#9c179e"
            ],
            [
             0.4444444444444444,
             "#bd3786"
            ],
            [
             0.5555555555555556,
             "#d8576b"
            ],
            [
             0.6666666666666666,
             "#ed7953"
            ],
            [
             0.7777777777777778,
             "#fb9f3a"
            ],
            [
             0.8888888888888888,
             "#fdca26"
            ],
            [
             1,
             "#f0f921"
            ]
           ]
          },
          "colorway": [
           "#636efa",
           "#EF553B",
           "#00cc96",
           "#ab63fa",
           "#FFA15A",
           "#19d3f3",
           "#FF6692",
           "#B6E880",
           "#FF97FF",
           "#FECB52"
          ],
          "font": {
           "color": "#2a3f5f"
          },
          "geo": {
           "bgcolor": "white",
           "lakecolor": "white",
           "landcolor": "#E5ECF6",
           "showlakes": true,
           "showland": true,
           "subunitcolor": "white"
          },
          "hoverlabel": {
           "align": "left"
          },
          "hovermode": "closest",
          "mapbox": {
           "style": "light"
          },
          "paper_bgcolor": "white",
          "plot_bgcolor": "#E5ECF6",
          "polar": {
           "angularaxis": {
            "gridcolor": "white",
            "linecolor": "white",
            "ticks": ""
           },
           "bgcolor": "#E5ECF6",
           "radialaxis": {
            "gridcolor": "white",
            "linecolor": "white",
            "ticks": ""
           }
          },
          "scene": {
           "xaxis": {
            "backgroundcolor": "#E5ECF6",
            "gridcolor": "white",
            "gridwidth": 2,
            "linecolor": "white",
            "showbackground": true,
            "ticks": "",
            "zerolinecolor": "white"
           },
           "yaxis": {
            "backgroundcolor": "#E5ECF6",
            "gridcolor": "white",
            "gridwidth": 2,
            "linecolor": "white",
            "showbackground": true,
            "ticks": "",
            "zerolinecolor": "white"
           },
           "zaxis": {
            "backgroundcolor": "#E5ECF6",
            "gridcolor": "white",
            "gridwidth": 2,
            "linecolor": "white",
            "showbackground": true,
            "ticks": "",
            "zerolinecolor": "white"
           }
          },
          "shapedefaults": {
           "line": {
            "color": "#2a3f5f"
           }
          },
          "ternary": {
           "aaxis": {
            "gridcolor": "white",
            "linecolor": "white",
            "ticks": ""
           },
           "baxis": {
            "gridcolor": "white",
            "linecolor": "white",
            "ticks": ""
           },
           "bgcolor": "#E5ECF6",
           "caxis": {
            "gridcolor": "white",
            "linecolor": "white",
            "ticks": ""
           }
          },
          "title": {
           "x": 0.05
          },
          "xaxis": {
           "automargin": true,
           "gridcolor": "white",
           "linecolor": "white",
           "ticks": "",
           "zerolinecolor": "white",
           "zerolinewidth": 2
          },
          "yaxis": {
           "automargin": true,
           "gridcolor": "white",
           "linecolor": "white",
           "ticks": "",
           "zerolinecolor": "white",
           "zerolinewidth": 2
          }
         }
        },
        "title": {
         "text": "Tweet Activity"
        },
        "width": 1000,
        "xaxis": {
         "title": {
          "text": "Date"
         }
        },
        "yaxis": {
         "title": {
          "text": "Tweet Quantity"
         }
        }
       }
      },
      "text/html": [
       "<div>\n",
       "        \n",
       "        \n",
       "            <div id=\"6bf5de12-ba9b-46c4-b349-33bf87a3d043\" class=\"plotly-graph-div\" style=\"height:450px; width:1000px;\"></div>\n",
       "            <script type=\"text/javascript\">\n",
       "                require([\"plotly\"], function(Plotly) {\n",
       "                    window.PLOTLYENV=window.PLOTLYENV || {};\n",
       "                    \n",
       "                if (document.getElementById(\"6bf5de12-ba9b-46c4-b349-33bf87a3d043\")) {\n",
       "                    Plotly.newPlot(\n",
       "                        '6bf5de12-ba9b-46c4-b349-33bf87a3d043',\n",
       "                        [{\"marker\": {\"color\": \"blue\"}, \"opacity\": 0.75, \"type\": \"histogram\", \"x\": [\"2019-08-20T14:20:11\", \"2019-08-20T14:15:10\", \"2019-08-20T13:20:49\", \"2019-08-20T13:17:23\", \"2019-08-20T13:14:13\", \"2019-08-20T13:08:38\", \"2019-08-20T12:49:10\", \"2019-08-20T12:29:52\", \"2019-08-20T12:29:09\", \"2019-08-20T12:19:33\", \"2019-08-20T11:56:06\", \"2019-08-20T11:55:40\", \"2019-08-20T11:47:58\", \"2019-08-20T11:04:28\", \"2019-08-20T09:09:11\", \"2019-08-20T07:40:02\", \"2019-08-20T07:23:02\", \"2019-08-20T07:10:02\", \"2019-08-20T06:47:44\", \"2019-08-20T06:39:01\", \"2019-08-20T05:56:57\", \"2019-08-20T05:13:20\", \"2019-08-20T04:36:32\", \"2019-08-20T04:33:32\", \"2019-08-20T04:03:08\", \"2019-08-20T03:46:31\", \"2019-08-20T03:44:14\", \"2019-08-20T03:40:56\", \"2019-08-20T03:28:33\", \"2019-08-20T02:50:02\", \"2019-08-20T02:28:57\", \"2019-08-20T02:16:14\", \"2019-08-20T02:14:38\", \"2019-08-20T02:00:27\", \"2019-08-20T02:00:02\", \"2019-08-20T01:54:07\", \"2019-08-20T01:34:01\", \"2019-08-20T01:28:00\", \"2019-08-20T01:13:03\", \"2019-08-20T01:13:01\", \"2019-08-20T01:05:33\", \"2019-08-20T00:54:09\", \"2019-08-20T00:47:07\", \"2019-08-20T00:29:09\", \"2019-08-19T23:50:59\", \"2019-08-19T23:00:03\", \"2019-08-19T22:35:19\", \"2019-08-19T22:28:06\", \"2019-08-19T22:19:16\", \"2019-08-19T21:08:48\", \"2019-08-19T21:00:08\", \"2019-08-19T20:49:48\", \"2019-08-19T19:57:24\", \"2019-08-19T19:55:10\", \"2019-08-19T19:41:41\", \"2019-08-19T19:39:28\", \"2019-08-19T19:32:50\", \"2019-08-19T19:25:05\", \"2019-08-19T19:15:09\", \"2019-08-19T18:34:24\", \"2019-08-19T18:34:16\", \"2019-08-19T18:25:52\", \"2019-08-19T18:18:12\", \"2019-08-19T18:15:07\", \"2019-08-19T18:08:12\", \"2019-08-19T17:54:49\", \"2019-08-19T17:43:33\", \"2019-08-19T17:38:17\", \"2019-08-19T17:35:44\", \"2019-08-19T17:11:28\", \"2019-08-19T17:06:26\", \"2019-08-19T17:00:20\", \"2019-08-19T16:44:14\", \"2019-08-19T16:43:39\", \"2019-08-19T16:32:27\", \"2019-08-19T16:27:01\", \"2019-08-19T16:22:32\", \"2019-08-19T16:22:17\", \"2019-08-19T16:16:12\", \"2019-08-19T16:15:09\", \"2019-08-19T16:12:52\", \"2019-08-19T16:12:23\", \"2019-08-19T16:09:00\", \"2019-08-19T15:52:03\", \"2019-08-19T15:46:59\", \"2019-08-19T15:40:21\", \"2019-08-19T15:26:17\", \"2019-08-19T15:24:44\", \"2019-08-19T15:23:28\", \"2019-08-19T15:17:57\", \"2019-08-19T15:16:48\", \"2019-08-19T15:09:42\", \"2019-08-19T14:58:38\", \"2019-08-19T14:53:21\", \"2019-08-19T14:38:42\", \"2019-08-19T14:21:00\", \"2019-08-19T14:18:34\", \"2019-08-19T14:12:26\", \"2019-08-19T13:53:37\", \"2019-08-19T12:11:14\", \"2019-08-19T12:00:01\", \"2019-08-19T11:41:22\", \"2019-08-19T11:40:36\", \"2019-08-19T11:00:01\", \"2019-08-19T10:35:54\", \"2019-08-19T10:16:30\", \"2019-08-19T09:03:41\", \"2019-08-19T07:54:03\", \"2019-08-19T07:02:35\", \"2019-08-19T06:19:11\", \"2019-08-19T06:09:27\", \"2019-08-19T06:06:59\", \"2019-08-19T05:03:21\", \"2019-08-19T05:03:05\", \"2019-08-19T03:55:35\", \"2019-08-19T01:58:23\", \"2019-08-19T01:53:31\", \"2019-08-19T01:48:26\", \"2019-08-19T01:45:51\", \"2019-08-19T01:13:07\", \"2019-08-19T00:31:08\", \"2019-08-19T00:17:22\", \"2019-08-18T23:22:21\", \"2019-08-18T23:01:54\", \"2019-08-18T22:54:33\", \"2019-08-18T21:00:04\", \"2019-08-18T20:51:24\", \"2019-08-18T20:25:35\", \"2019-08-18T19:44:01\", \"2019-08-18T19:44:00\", \"2019-08-18T19:09:04\", \"2019-08-18T19:00:05\", \"2019-08-18T18:21:12\", \"2019-08-18T18:15:13\", \"2019-08-18T18:15:07\", \"2019-08-18T18:06:13\", \"2019-08-18T18:00:09\", \"2019-08-18T17:59:10\", \"2019-08-18T17:56:21\", \"2019-08-18T17:17:51\", \"2019-08-18T17:12:10\", \"2019-08-18T17:10:25\", \"2019-08-18T17:03:21\", \"2019-08-18T17:01:03\", \"2019-08-18T17:01:01\", \"2019-08-18T16:43:44\", \"2019-08-18T16:37:03\", \"2019-08-18T16:36:39\", \"2019-08-18T16:15:07\", \"2019-08-18T16:02:12\", \"2019-08-18T15:52:10\", \"2019-08-18T15:38:14\", \"2019-08-18T15:09:45\", \"2019-08-18T14:29:27\", \"2019-08-18T14:29:18\", \"2019-08-18T14:14:19\", \"2019-08-18T14:11:49\", \"2019-08-18T13:57:39\", \"2019-08-18T13:24:20\", \"2019-08-18T12:22:54\", \"2019-08-18T12:05:02\", \"2019-08-18T12:00:24\", \"2019-08-18T11:41:30\", \"2019-08-18T11:25:13\", \"2019-08-18T11:25:12\", \"2019-08-18T11:25:12\", \"2019-08-18T10:34:30\", \"2019-08-18T09:37:18\", \"2019-08-18T09:33:28\", \"2019-08-18T07:37:13\", \"2019-08-18T06:33:47\", \"2019-08-18T06:21:12\", \"2019-08-18T05:04:38\", \"2019-08-18T05:00:51\", \"2019-08-18T03:42:11\", \"2019-08-18T03:16:30\", \"2019-08-18T02:19:28\", \"2019-08-18T01:46:59\", \"2019-08-18T01:12:38\", \"2019-08-17T23:50:18\", \"2019-08-17T23:42:23\", \"2019-08-17T22:52:00\", \"2019-08-17T21:12:06\", \"2019-08-17T21:00:04\", \"2019-08-17T20:49:02\", \"2019-08-17T20:43:54\", \"2019-08-17T20:28:26\", \"2019-08-17T20:14:29\", \"2019-08-17T19:34:52\", \"2019-08-17T19:24:38\", \"2019-08-17T19:00:11\", \"2019-08-17T18:38:19\", \"2019-08-17T18:37:04\", \"2019-08-17T18:35:02\", \"2019-08-17T18:15:08\", \"2019-08-17T18:02:53\", \"2019-08-17T17:57:56\", \"2019-08-17T17:44:08\", \"2019-08-17T17:32:34\", \"2019-08-17T17:04:59\", \"2019-08-17T17:03:41\", \"2019-08-17T17:00:18\", \"2019-08-17T16:58:30\", \"2019-08-17T16:47:00\", \"2019-08-17T16:37:49\", \"2019-08-17T16:37:23\", \"2019-08-17T16:16:15\", \"2019-08-17T16:12:05\", \"2019-08-17T15:51:38\", \"2019-08-17T15:46:16\", \"2019-08-17T15:34:20\", \"2019-08-17T15:30:03\", \"2019-08-17T15:12:05\", \"2019-08-17T15:10:51\", \"2019-08-17T15:00:23\", \"2019-08-17T14:58:34\", \"2019-08-17T14:30:54\", \"2019-08-17T14:15:07\", \"2019-08-17T14:12:23\", \"2019-08-17T13:16:31\", \"2019-08-17T13:06:25\", \"2019-08-17T13:01:45\", \"2019-08-17T12:56:46\", \"2019-08-17T12:25:46\", \"2019-08-17T12:04:54\", \"2019-08-17T10:12:17\", \"2019-08-17T10:09:07\", \"2019-08-17T09:59:45\", \"2019-08-17T09:33:00\", \"2019-08-17T09:30:57\", \"2019-08-17T08:34:19\", \"2019-08-17T08:22:42\", \"2019-08-17T07:57:47\", \"2019-08-17T06:12:14\", \"2019-08-17T06:11:53\", \"2019-08-17T06:11:17\", \"2019-08-17T06:11:16\", \"2019-08-17T06:01:01\", \"2019-08-17T05:34:13\", \"2019-08-17T05:19:49\", \"2019-08-17T03:30:56\", \"2019-08-17T03:23:31\", \"2019-08-17T02:11:48\", \"2019-08-17T02:00:03\", \"2019-08-17T01:22:07\", \"2019-08-17T00:58:05\", \"2019-08-17T00:09:37\", \"2019-08-17T00:05:07\", \"2019-08-17T00:04:42\", \"2019-08-16T23:51:12\", \"2019-08-16T23:01:49\", \"2019-08-16T22:05:42\", \"2019-08-16T22:05:01\", \"2019-08-16T21:55:36\", \"2019-08-16T21:44:07\", \"2019-08-16T21:23:45\", \"2019-08-16T21:00:08\", \"2019-08-16T20:52:31\", \"2019-08-16T20:35:02\", \"2019-08-16T20:25:59\", \"2019-08-16T20:10:49\", \"2019-08-16T20:00:08\", \"2019-08-16T19:48:30\", \"2019-08-16T19:27:45\", \"2019-08-16T19:12:09\", \"2019-08-16T19:11:48\", \"2019-08-16T19:03:49\", \"2019-08-16T18:58:21\", \"2019-08-16T18:47:23\", \"2019-08-16T18:46:06\", \"2019-08-16T18:34:12\", \"2019-08-16T18:08:03\", \"2019-08-16T18:05:23\", \"2019-08-16T17:55:54\", \"2019-08-16T17:48:06\", \"2019-08-16T17:00:17\", \"2019-08-16T16:55:16\", \"2019-08-16T16:34:36\", \"2019-08-16T16:32:38\", \"2019-08-16T16:15:12\", \"2019-08-16T15:34:40\", \"2019-08-16T15:26:33\", \"2019-08-16T15:25:53\", \"2019-08-16T15:10:29\", \"2019-08-16T15:00:22\", \"2019-08-16T14:59:08\", \"2019-08-16T14:15:12\", \"2019-08-16T14:03:18\", \"2019-08-16T13:24:25\", \"2019-08-16T13:23:48\", \"2019-08-16T13:16:54\", \"2019-08-16T13:14:23\", \"2019-08-16T11:55:51\", \"2019-08-16T11:55:07\", \"2019-08-16T10:25:08\", \"2019-08-16T10:18:27\", \"2019-08-16T09:17:12\", \"2019-08-16T08:30:17\", \"2019-08-16T08:05:16\", \"2019-08-16T08:03:55\", \"2019-08-16T08:01:30\", \"2019-08-16T07:48:00\", \"2019-08-16T07:30:08\", \"2019-08-16T06:40:17\", \"2019-08-16T05:51:06\", \"2019-08-16T05:35:06\", \"2019-08-16T05:27:20\", \"2019-08-16T04:43:15\", \"2019-08-16T04:17:25\", \"2019-08-16T04:12:21\", \"2019-08-16T03:38:04\", \"2019-08-16T03:10:24\", \"2019-08-16T02:33:51\", \"2019-08-16T02:28:17\", \"2019-08-16T02:10:35\", \"2019-08-16T02:00:04\", \"2019-08-16T01:52:37\", \"2019-08-16T01:46:47\", \"2019-08-16T01:39:01\", \"2019-08-16T01:30:11\", \"2019-08-15T23:53:45\", \"2019-08-15T23:46:25\", \"2019-08-15T23:13:34\", \"2019-08-15T23:00:11\", \"2019-08-15T22:47:27\", \"2019-08-15T22:23:43\", \"2019-08-15T21:44:22\", \"2019-08-15T21:19:57\", \"2019-08-15T21:15:12\", \"2019-08-15T21:00:09\", \"2019-08-15T20:19:44\", \"2019-08-15T20:08:11\", \"2019-08-15T20:02:17\", \"2019-08-15T19:29:58\", \"2019-08-15T19:00:18\", \"2019-08-15T18:53:47\", \"2019-08-15T18:18:56\", \"2019-08-15T18:17:16\", \"2019-08-15T18:15:13\", \"2019-08-15T18:07:46\", \"2019-08-15T18:01:48\", \"2019-08-15T17:52:59\", \"2019-08-15T17:50:17\", \"2019-08-15T17:49:07\", \"2019-08-15T17:46:13\", \"2019-08-15T17:34:31\", \"2019-08-15T17:28:59\", \"2019-08-15T17:12:20\", \"2019-08-15T17:08:09\", \"2019-08-15T17:02:03\", \"2019-08-15T17:01:07\", \"2019-08-15T17:00:24\", \"2019-08-15T16:53:47\", \"2019-08-15T16:49:01\", \"2019-08-15T16:18:15\", \"2019-08-15T16:15:13\", \"2019-08-15T16:01:27\", \"2019-08-15T15:56:00\", \"2019-08-15T15:43:56\", \"2019-08-15T15:01:00\", \"2019-08-15T15:00:17\", \"2019-08-15T14:42:54\", \"2019-08-15T14:20:28\", \"2019-08-15T14:17:52\", \"2019-08-15T13:57:03\", \"2019-08-15T13:57:02\", \"2019-08-15T13:49:41\", \"2019-08-15T13:45:32\", \"2019-08-15T13:44:25\", \"2019-08-15T13:37:12\", \"2019-08-15T13:28:45\", \"2019-08-15T12:42:46\", \"2019-08-15T11:03:20\", \"2019-08-15T09:59:29\", \"2019-08-15T09:59:06\", \"2019-08-15T09:20:36\", \"2019-08-15T09:17:42\", \"2019-08-15T08:59:34\", \"2019-08-15T07:04:33\", \"2019-08-15T07:03:15\", \"2019-08-15T06:52:19\", \"2019-08-15T06:31:15\", \"2019-08-15T06:30:41\", \"2019-08-15T06:30:27\", \"2019-08-15T06:29:53\", \"2019-08-15T06:29:27\", \"2019-08-15T06:28:27\", \"2019-08-15T06:27:57\", \"2019-08-15T06:27:17\", \"2019-08-15T06:26:47\", \"2019-08-15T06:26:03\", \"2019-08-15T06:21:38\", \"2019-08-15T06:21:05\", \"2019-08-15T06:20:38\", \"2019-08-15T04:25:18\", \"2019-08-15T04:00:01\", \"2019-08-15T03:59:07\", \"2019-08-15T02:12:49\", \"2019-08-15T02:07:37\", \"2019-08-15T02:00:04\", \"2019-08-15T01:52:58\", \"2019-08-15T01:47:22\", \"2019-08-15T00:42:53\", \"2019-08-15T00:05:33\", \"2019-08-14T23:14:11\", \"2019-08-14T23:13:20\", \"2019-08-14T23:12:55\", \"2019-08-14T23:02:35\", \"2019-08-14T23:00:06\", \"2019-08-14T22:34:23\", \"2019-08-14T22:11:12\", \"2019-08-14T22:07:30\", \"2019-08-14T21:54:54\", \"2019-08-14T21:41:03\", \"2019-08-14T21:00:08\", \"2019-08-14T20:49:52\", \"2019-08-14T20:42:58\", \"2019-08-14T20:25:42\", \"2019-08-14T20:22:35\", \"2019-08-14T20:19:01\", \"2019-08-14T20:15:11\", \"2019-08-14T19:13:44\", \"2019-08-14T18:53:05\", \"2019-08-14T18:37:19\", \"2019-08-14T18:36:47\", \"2019-08-14T18:36:43\", \"2019-08-14T18:26:49\", \"2019-08-14T18:24:54\", \"2019-08-14T18:21:47\", \"2019-08-14T18:20:16\", \"2019-08-14T18:18:41\", \"2019-08-14T17:54:53\", \"2019-08-14T17:52:50\", \"2019-08-14T17:45:14\", \"2019-08-14T17:44:30\", \"2019-08-14T17:17:33\", \"2019-08-14T17:00:20\", \"2019-08-14T15:53:13\", \"2019-08-14T15:47:51\", \"2019-08-14T15:33:50\", \"2019-08-14T15:31:57\", \"2019-08-14T15:11:39\", \"2019-08-14T15:00:20\", \"2019-08-14T14:20:22\", \"2019-08-14T14:15:11\", \"2019-08-14T13:59:05\", \"2019-08-14T13:55:48\", \"2019-08-14T13:18:45\", \"2019-08-14T12:58:26\", \"2019-08-14T12:27:35\", \"2019-08-14T12:01:21\", \"2019-08-14T11:38:44\", \"2019-08-14T11:34:58\", \"2019-08-14T11:26:01\", \"2019-08-14T11:24:26\", \"2019-08-14T11:20:55\", \"2019-08-14T11:20:37\", \"2019-08-14T10:56:51\", \"2019-08-14T10:56:17\", \"2019-08-14T10:44:53\", \"2019-08-14T10:24:14\", \"2019-08-14T09:07:23\", \"2019-08-14T08:30:57\", \"2019-08-14T08:17:24\", \"2019-08-14T07:34:59\", \"2019-08-14T07:05:47\", \"2019-08-14T07:04:10\", \"2019-08-14T07:00:45\", \"2019-08-14T06:19:43\", \"2019-08-14T06:13:49\", \"2019-08-14T05:54:41\", \"2019-08-14T05:45:02\", \"2019-08-14T05:15:32\", \"2019-08-14T05:02:52\", \"2019-08-14T04:40:41\", \"2019-08-14T04:11:21\", \"2019-08-14T03:15:10\", \"2019-08-14T03:01:55\", \"2019-08-14T02:09:27\", \"2019-08-14T02:00:03\", \"2019-08-14T01:56:07\", \"2019-08-14T01:40:30\", \"2019-08-14T01:19:53\", \"2019-08-14T01:06:25\", \"2019-08-14T01:03:37\", \"2019-08-14T00:57:33\", \"2019-08-14T00:25:22\", \"2019-08-14T00:02:35\", \"2019-08-13T23:54:24\", \"2019-08-13T22:25:51\", \"2019-08-13T22:17:48\", \"2019-08-13T22:17:14\", \"2019-08-13T22:14:52\"]}],\n",
       "                        {\"bargap\": 0.2, \"height\": 450, \"template\": {\"data\": {\"bar\": [{\"error_x\": {\"color\": \"#2a3f5f\"}, \"error_y\": {\"color\": \"#2a3f5f\"}, \"marker\": {\"line\": {\"color\": \"#E5ECF6\", \"width\": 0.5}}, \"type\": \"bar\"}], \"barpolar\": [{\"marker\": {\"line\": {\"color\": \"#E5ECF6\", \"width\": 0.5}}, \"type\": \"barpolar\"}], \"carpet\": [{\"aaxis\": {\"endlinecolor\": \"#2a3f5f\", \"gridcolor\": \"white\", \"linecolor\": \"white\", \"minorgridcolor\": \"white\", \"startlinecolor\": \"#2a3f5f\"}, \"baxis\": {\"endlinecolor\": \"#2a3f5f\", \"gridcolor\": \"white\", \"linecolor\": \"white\", \"minorgridcolor\": \"white\", \"startlinecolor\": \"#2a3f5f\"}, \"type\": \"carpet\"}], \"choropleth\": [{\"colorbar\": {\"outlinewidth\": 0, \"ticks\": \"\"}, \"type\": \"choropleth\"}], \"contour\": [{\"colorbar\": {\"outlinewidth\": 0, \"ticks\": \"\"}, \"colorscale\": [[0.0, \"#0d0887\"], [0.1111111111111111, \"#46039f\"], [0.2222222222222222, \"#7201a8\"], [0.3333333333333333, \"#9c179e\"], [0.4444444444444444, \"#bd3786\"], [0.5555555555555556, \"#d8576b\"], [0.6666666666666666, \"#ed7953\"], [0.7777777777777778, \"#fb9f3a\"], [0.8888888888888888, \"#fdca26\"], [1.0, \"#f0f921\"]], \"type\": \"contour\"}], \"contourcarpet\": [{\"colorbar\": {\"outlinewidth\": 0, \"ticks\": \"\"}, \"type\": \"contourcarpet\"}], \"heatmap\": [{\"colorbar\": {\"outlinewidth\": 0, \"ticks\": \"\"}, \"colorscale\": [[0.0, \"#0d0887\"], [0.1111111111111111, \"#46039f\"], [0.2222222222222222, \"#7201a8\"], [0.3333333333333333, \"#9c179e\"], [0.4444444444444444, \"#bd3786\"], [0.5555555555555556, \"#d8576b\"], [0.6666666666666666, \"#ed7953\"], [0.7777777777777778, \"#fb9f3a\"], [0.8888888888888888, \"#fdca26\"], [1.0, \"#f0f921\"]], \"type\": \"heatmap\"}], \"heatmapgl\": [{\"colorbar\": {\"outlinewidth\": 0, \"ticks\": \"\"}, \"colorscale\": [[0.0, \"#0d0887\"], [0.1111111111111111, \"#46039f\"], [0.2222222222222222, \"#7201a8\"], [0.3333333333333333, \"#9c179e\"], [0.4444444444444444, \"#bd3786\"], [0.5555555555555556, \"#d8576b\"], [0.6666666666666666, \"#ed7953\"], [0.7777777777777778, \"#fb9f3a\"], [0.8888888888888888, \"#fdca26\"], [1.0, \"#f0f921\"]], \"type\": \"heatmapgl\"}], \"histogram\": [{\"marker\": {\"colorbar\": {\"outlinewidth\": 0, \"ticks\": \"\"}}, \"type\": \"histogram\"}], \"histogram2d\": [{\"colorbar\": {\"outlinewidth\": 0, \"ticks\": \"\"}, \"colorscale\": [[0.0, \"#0d0887\"], [0.1111111111111111, \"#46039f\"], [0.2222222222222222, \"#7201a8\"], [0.3333333333333333, \"#9c179e\"], [0.4444444444444444, \"#bd3786\"], [0.5555555555555556, \"#d8576b\"], [0.6666666666666666, \"#ed7953\"], [0.7777777777777778, \"#fb9f3a\"], [0.8888888888888888, \"#fdca26\"], [1.0, \"#f0f921\"]], \"type\": \"histogram2d\"}], \"histogram2dcontour\": [{\"colorbar\": {\"outlinewidth\": 0, \"ticks\": \"\"}, \"colorscale\": [[0.0, \"#0d0887\"], [0.1111111111111111, \"#46039f\"], [0.2222222222222222, \"#7201a8\"], [0.3333333333333333, \"#9c179e\"], [0.4444444444444444, \"#bd3786\"], [0.5555555555555556, \"#d8576b\"], [0.6666666666666666, \"#ed7953\"], [0.7777777777777778, \"#fb9f3a\"], [0.8888888888888888, \"#fdca26\"], [1.0, \"#f0f921\"]], \"type\": \"histogram2dcontour\"}], \"mesh3d\": [{\"colorbar\": {\"outlinewidth\": 0, \"ticks\": \"\"}, \"type\": \"mesh3d\"}], \"parcoords\": [{\"line\": {\"colorbar\": {\"outlinewidth\": 0, \"ticks\": \"\"}}, \"type\": \"parcoords\"}], \"scatter\": [{\"marker\": {\"colorbar\": {\"outlinewidth\": 0, \"ticks\": \"\"}}, \"type\": \"scatter\"}], \"scatter3d\": [{\"line\": {\"colorbar\": {\"outlinewidth\": 0, \"ticks\": \"\"}}, \"marker\": {\"colorbar\": {\"outlinewidth\": 0, \"ticks\": \"\"}}, \"type\": \"scatter3d\"}], \"scattercarpet\": [{\"marker\": {\"colorbar\": {\"outlinewidth\": 0, \"ticks\": \"\"}}, \"type\": \"scattercarpet\"}], \"scattergeo\": [{\"marker\": {\"colorbar\": {\"outlinewidth\": 0, \"ticks\": \"\"}}, \"type\": \"scattergeo\"}], \"scattergl\": [{\"marker\": {\"colorbar\": {\"outlinewidth\": 0, \"ticks\": \"\"}}, \"type\": \"scattergl\"}], \"scattermapbox\": [{\"marker\": {\"colorbar\": {\"outlinewidth\": 0, \"ticks\": \"\"}}, \"type\": \"scattermapbox\"}], \"scatterpolar\": [{\"marker\": {\"colorbar\": {\"outlinewidth\": 0, \"ticks\": \"\"}}, \"type\": \"scatterpolar\"}], \"scatterpolargl\": [{\"marker\": {\"colorbar\": {\"outlinewidth\": 0, \"ticks\": \"\"}}, \"type\": \"scatterpolargl\"}], \"scatterternary\": [{\"marker\": {\"colorbar\": {\"outlinewidth\": 0, \"ticks\": \"\"}}, \"type\": \"scatterternary\"}], \"surface\": [{\"colorbar\": {\"outlinewidth\": 0, \"ticks\": \"\"}, \"colorscale\": [[0.0, \"#0d0887\"], [0.1111111111111111, \"#46039f\"], [0.2222222222222222, \"#7201a8\"], [0.3333333333333333, \"#9c179e\"], [0.4444444444444444, \"#bd3786\"], [0.5555555555555556, \"#d8576b\"], [0.6666666666666666, \"#ed7953\"], [0.7777777777777778, \"#fb9f3a\"], [0.8888888888888888, \"#fdca26\"], [1.0, \"#f0f921\"]], \"type\": \"surface\"}], \"table\": [{\"cells\": {\"fill\": {\"color\": \"#EBF0F8\"}, \"line\": {\"color\": \"white\"}}, \"header\": {\"fill\": {\"color\": \"#C8D4E3\"}, \"line\": {\"color\": \"white\"}}, \"type\": \"table\"}]}, \"layout\": {\"annotationdefaults\": {\"arrowcolor\": \"#2a3f5f\", \"arrowhead\": 0, \"arrowwidth\": 1}, \"colorscale\": {\"diverging\": [[0, \"#8e0152\"], [0.1, \"#c51b7d\"], [0.2, \"#de77ae\"], [0.3, \"#f1b6da\"], [0.4, \"#fde0ef\"], [0.5, \"#f7f7f7\"], [0.6, \"#e6f5d0\"], [0.7, \"#b8e186\"], [0.8, \"#7fbc41\"], [0.9, \"#4d9221\"], [1, \"#276419\"]], \"sequential\": [[0.0, \"#0d0887\"], [0.1111111111111111, \"#46039f\"], [0.2222222222222222, \"#7201a8\"], [0.3333333333333333, \"#9c179e\"], [0.4444444444444444, \"#bd3786\"], [0.5555555555555556, \"#d8576b\"], [0.6666666666666666, \"#ed7953\"], [0.7777777777777778, \"#fb9f3a\"], [0.8888888888888888, \"#fdca26\"], [1.0, \"#f0f921\"]], \"sequentialminus\": [[0.0, \"#0d0887\"], [0.1111111111111111, \"#46039f\"], [0.2222222222222222, \"#7201a8\"], [0.3333333333333333, \"#9c179e\"], [0.4444444444444444, \"#bd3786\"], [0.5555555555555556, \"#d8576b\"], [0.6666666666666666, \"#ed7953\"], [0.7777777777777778, \"#fb9f3a\"], [0.8888888888888888, \"#fdca26\"], [1.0, \"#f0f921\"]]}, \"colorway\": [\"#636efa\", \"#EF553B\", \"#00cc96\", \"#ab63fa\", \"#FFA15A\", \"#19d3f3\", \"#FF6692\", \"#B6E880\", \"#FF97FF\", \"#FECB52\"], \"font\": {\"color\": \"#2a3f5f\"}, \"geo\": {\"bgcolor\": \"white\", \"lakecolor\": \"white\", \"landcolor\": \"#E5ECF6\", \"showlakes\": true, \"showland\": true, \"subunitcolor\": \"white\"}, \"hoverlabel\": {\"align\": \"left\"}, \"hovermode\": \"closest\", \"mapbox\": {\"style\": \"light\"}, \"paper_bgcolor\": \"white\", \"plot_bgcolor\": \"#E5ECF6\", \"polar\": {\"angularaxis\": {\"gridcolor\": \"white\", \"linecolor\": \"white\", \"ticks\": \"\"}, \"bgcolor\": \"#E5ECF6\", \"radialaxis\": {\"gridcolor\": \"white\", \"linecolor\": \"white\", \"ticks\": \"\"}}, \"scene\": {\"xaxis\": {\"backgroundcolor\": \"#E5ECF6\", \"gridcolor\": \"white\", \"gridwidth\": 2, \"linecolor\": \"white\", \"showbackground\": true, \"ticks\": \"\", \"zerolinecolor\": \"white\"}, \"yaxis\": {\"backgroundcolor\": \"#E5ECF6\", \"gridcolor\": \"white\", \"gridwidth\": 2, \"linecolor\": \"white\", \"showbackground\": true, \"ticks\": \"\", \"zerolinecolor\": \"white\"}, \"zaxis\": {\"backgroundcolor\": \"#E5ECF6\", \"gridcolor\": \"white\", \"gridwidth\": 2, \"linecolor\": \"white\", \"showbackground\": true, \"ticks\": \"\", \"zerolinecolor\": \"white\"}}, \"shapedefaults\": {\"line\": {\"color\": \"#2a3f5f\"}}, \"ternary\": {\"aaxis\": {\"gridcolor\": \"white\", \"linecolor\": \"white\", \"ticks\": \"\"}, \"baxis\": {\"gridcolor\": \"white\", \"linecolor\": \"white\", \"ticks\": \"\"}, \"bgcolor\": \"#E5ECF6\", \"caxis\": {\"gridcolor\": \"white\", \"linecolor\": \"white\", \"ticks\": \"\"}}, \"title\": {\"x\": 0.05}, \"xaxis\": {\"automargin\": true, \"gridcolor\": \"white\", \"linecolor\": \"white\", \"ticks\": \"\", \"zerolinecolor\": \"white\", \"zerolinewidth\": 2}, \"yaxis\": {\"automargin\": true, \"gridcolor\": \"white\", \"linecolor\": \"white\", \"ticks\": \"\", \"zerolinecolor\": \"white\", \"zerolinewidth\": 2}}}, \"title\": {\"text\": \"Tweet Activity\"}, \"width\": 1000, \"xaxis\": {\"title\": {\"text\": \"Date\"}}, \"yaxis\": {\"title\": {\"text\": \"Tweet Quantity\"}}},\n",
       "                        {\"responsive\": true}\n",
       "                    ).then(function(){\n",
       "                            \n",
       "var gd = document.getElementById('6bf5de12-ba9b-46c4-b349-33bf87a3d043');\n",
       "var x = new MutationObserver(function (mutations, observer) {{\n",
       "        var display = window.getComputedStyle(gd).display;\n",
       "        if (!display || display === 'none') {{\n",
       "            console.log([gd, 'removed!']);\n",
       "            Plotly.purge(gd);\n",
       "            observer.disconnect();\n",
       "        }}\n",
       "}});\n",
       "\n",
       "// Listen for the removal of the full notebook cells\n",
       "var notebookContainer = gd.closest('#notebook-container');\n",
       "if (notebookContainer) {{\n",
       "    x.observe(notebookContainer, {childList: true});\n",
       "}}\n",
       "\n",
       "// Listen for the clearing of the current output cell\n",
       "var outputEl = gd.closest('.output');\n",
       "if (outputEl) {{\n",
       "    x.observe(outputEl, {childList: true});\n",
       "}}\n",
       "\n",
       "                        })\n",
       "                };\n",
       "                });\n",
       "            </script>\n",
       "        </div>"
      ]
     },
     "metadata": {},
     "output_type": "display_data"
    }
   ],
   "source": [
    "tweetsT = df_tweet['created_at'] \n",
    "\n",
    "trace = go.Histogram(\n",
    "    x = tweetsT,\n",
    "    marker = dict(\n",
    "        color = 'blue'\n",
    "    ),\n",
    "    opacity = 0.75\n",
    ")\n",
    "\n",
    "layout = go.Layout(\n",
    "    title = 'Tweet Activity',\n",
    "    height = 450,\n",
    "    width = 1000,\n",
    "    xaxis = dict(\n",
    "        title = 'Date'\n",
    "    ),\n",
    "    yaxis = dict(\n",
    "        title = 'Tweet Quantity'\n",
    "    ),\n",
    "    bargap = 0.2,\n",
    ")\n",
    "\n",
    "data = [trace]\n",
    "fig = go.Figure(data=data, layout=layout)\n",
    "py.offline.iplot(fig)"
   ]
  },
  {
   "cell_type": "markdown",
   "metadata": {},
   "source": [
    "# Step 3: Implement Encrpyted Dataset"
   ]
  },
  {
   "cell_type": "markdown",
   "metadata": {},
   "source": [
    "First, we create dictionaries to change for each character to index, and vice versa."
   ]
  },
  {
   "cell_type": "code",
   "execution_count": 41,
   "metadata": {},
   "outputs": [],
   "source": [
    "char2index = {}\n",
    "index2char = {}\n",
    "\n",
    "for i, char in enumerate(' ' + string.ascii_lowercase + '0123456789' + string.punctuation):\n",
    "    char2index[char] = i\n",
    "    index2char[i] = char"
   ]
  },
  {
   "cell_type": "markdown",
   "metadata": {},
   "source": [
    "Let's build some functions to implement encrpyted dataset."
   ]
  },
  {
   "cell_type": "code",
   "execution_count": 42,
   "metadata": {},
   "outputs": [],
   "source": [
    "def string2values(str_input, max_len=8):\n",
    "    \"\"\"Change string to value.\n",
    "    Args:\n",
    "        str_input(str): string input\n",
    "        max_len: maximum length of string\n",
    "    Returns:\n",
    "        tensor values\n",
    "    \"\"\"\n",
    "    str_input = str_input[:max_len].lower()\n",
    "    \n",
    "    # pad strings shorter than max len\n",
    "    if(len(str_input) < max_len):\n",
    "        str_input = str_input + \".\" * (max_len - len(str_input))\n",
    "    \n",
    "    values = list()\n",
    "    for char in str_input:\n",
    "        values.append(char2index[char])\n",
    "        \n",
    "    return th.tensor(values).long()\n",
    "\n",
    "def values2string(input_values):\n",
    "    \"\"\"Change value to string.\n",
    "    Args:\n",
    "        input_values: values input\n",
    "    Returns:\n",
    "        string\n",
    "    \"\"\"\n",
    "    s = \"\"\n",
    "    for value in input_values:\n",
    "        s += index2char[int(value)]\n",
    "    return s\n",
    "\n",
    "def one_hot(index, length):\n",
    "    \"\"\"Make one hot for each counted string on the index.\n",
    "    Args:\n",
    "        index\n",
    "    Returns:\n",
    "        one hot vector\n",
    "    \"\"\"\n",
    "    vect = th.zeros(length).long()\n",
    "    vect[index] = 1\n",
    "    return vect\n",
    "\n",
    "def string2one_hot_matrix(str_input, max_len=8):\n",
    "    \"\"\"Change string into one hot matrix\n",
    "    Args:\n",
    "        str_input(str): string input\n",
    "        max_len: maximum length of string\n",
    "    Returns:\n",
    "        one hot matrix\n",
    "    \"\"\"\n",
    "    str_input = str_input[:max_len].lower()\n",
    "    # pad strings shorter than max len\n",
    "    if(len(str_input) < max_len):\n",
    "        str_input = str_input + \".\" * (max_len - len(str_input))\n",
    "\n",
    "    char_vectors = list()\n",
    "    for char in str_input:\n",
    "        char_v = one_hot(char2index[char], len(char2index)).unsqueeze(0)\n",
    "        char_vectors.append(char_v)\n",
    "        \n",
    "    return th.cat(char_vectors, dim=0)\n",
    "\n",
    "def strings_equal(str_a, str_b):\n",
    "    \"\"\"Comparing two string inputs\n",
    "    Args:\n",
    "        str_a(str): string input a\n",
    "        str_b(str): string input b\n",
    "    Returns:\n",
    "        tensor comparison result\n",
    "    \"\"\"\n",
    "    vect = (str_a * str_b).sum(1) # show overlapping\n",
    "\n",
    "    x = vect[0]\n",
    "\n",
    "    for i in range(vect.shape[0] - 1):\n",
    "        x = x * vect[i+1]\n",
    "\n",
    "    return x"
   ]
  },
  {
   "cell_type": "markdown",
   "metadata": {},
   "source": [
    "Now, we will make class <code>EncrpytedDataset</code> to encrypt Twitter dataset."
   ]
  },
  {
   "cell_type": "code",
   "execution_count": 46,
   "metadata": {},
   "outputs": [],
   "source": [
    "class EncryptedDataset():\n",
    "    \n",
    "    def __init__(self, *owners, max_key_len=8, max_val_len=8):\n",
    "        self.max_key_len = max_key_len\n",
    "        self.max_val_len = max_val_len\n",
    "        \n",
    "        self.keys = list()\n",
    "        self.values = list()\n",
    "        self.owners = owners\n",
    "        \n",
    "    def add_entry(self, key, value):\n",
    "        key = string2one_hot_matrix(key)\n",
    "        key = key.share(*self.owners)\n",
    "        self.keys.append(key)\n",
    "        \n",
    "        value = string2values(value, max_len=self.max_val_len)\n",
    "        value = value.share(*self.owners)\n",
    "        self.values.append(value)\n",
    "        \n",
    "    def query(self, query_str):\n",
    "        query_matrix = string2one_hot_matrix(query_str)\n",
    "        \n",
    "        query_matrix = query_matrix.share(*self.owners)\n",
    "\n",
    "        key_matches = list()\n",
    "        for key in self.keys:\n",
    "\n",
    "            key_match = strings_equal(key, query_matrix)\n",
    "            key_matches.append(key_match)\n",
    "\n",
    "        result = self.values[0] * key_matches[0]\n",
    "\n",
    "        for i in range(len(self.values) - 1):\n",
    "            result += self.values[i+1] * key_matches[i+1]\n",
    "            \n",
    "        result = result.get()\n",
    "\n",
    "        return values2string(result).replace(\".\",\"\")"
   ]
  },
  {
   "cell_type": "markdown",
   "metadata": {},
   "source": [
    "## Make workers"
   ]
  },
  {
   "cell_type": "code",
   "execution_count": 44,
   "metadata": {},
   "outputs": [
    {
     "name": "stderr",
     "output_type": "stream",
     "text": [
      "W0820 22:11:36.020632  2788 hook.py:98] Torch was already hooked... skipping hooking process\n"
     ]
    }
   ],
   "source": [
    "import syft as sy\n",
    "import torch as th\n",
    "hook = sy.TorchHook(th)"
   ]
  },
  {
   "cell_type": "code",
   "execution_count": 63,
   "metadata": {},
   "outputs": [
    {
     "name": "stderr",
     "output_type": "stream",
     "text": [
      "W0820 22:34:05.893684  2788 base.py:628] Worker me already exists. Replacing old worker which could cause                     unexpected behavior\n",
      "W0820 22:34:05.894680  2788 base.py:628] Worker me already exists. Replacing old worker which could cause                     unexpected behavior\n",
      "W0820 22:34:05.895643  2788 base.py:628] Worker me already exists. Replacing old worker which could cause                     unexpected behavior\n"
     ]
    }
   ],
   "source": [
    "bob = sy.VirtualWorker(hook, id=\"bob\").add_worker(sy.local_worker)\n",
    "alice = sy.VirtualWorker(hook, id=\"alice\").add_worker(sy.local_worker)\n",
    "secure_worker = sy.VirtualWorker(hook, id=\"secure_worker\").add_worker(sy.local_worker)\n",
    "\n",
    "# clearing objects\n",
    "bob = bob.clear_objects()\n",
    "alice = alice.clear_objects()\n",
    "secure_worker = secure_worker.clear_objects()"
   ]
  },
  {
   "cell_type": "markdown",
   "metadata": {},
   "source": [
    "## Cleaning Dataset"
   ]
  },
  {
   "cell_type": "code",
   "execution_count": 49,
   "metadata": {},
   "outputs": [
    {
     "name": "stderr",
     "output_type": "stream",
     "text": [
      "[nltk_data] Downloading package stopwords to C:\\Users\\Yasir Abdur\n",
      "[nltk_data]     Rohman\\AppData\\Roaming\\nltk_data...\n",
      "[nltk_data]   Package stopwords is already up-to-date!\n"
     ]
    }
   ],
   "source": [
    "import nltk\n",
    "nltk.download('stopwords')\n",
    "from nltk.corpus import stopwords\n",
    "from string import punctuation\n",
    "import string\n",
    "from unicodedata import normalize\n",
    "import re\n",
    "\n",
    "def remove_url(tweet):\n",
    "    \"\"\"Remove URL link.\n",
    "    Args:\n",
    "        tweet(str): tweet\n",
    "    Returns:\n",
    "        modified tweet\n",
    "    \"\"\"\n",
    "    tweet = re.sub(r\"\\s—\\s\", \"\", tweet)\n",
    "    tweet = re.sub(r\"http\\S+\", \"\", tweet)\n",
    "    return tweet\n",
    "\n",
    "def remove_hashtag_mention(tweet):\n",
    "    \"\"\"Remove hastag and mention.\n",
    "    Args:\n",
    "        tweet(str): tweet\n",
    "    Returns:\n",
    "        modified tweet\n",
    "    \"\"\"\n",
    "    result = []\n",
    "    tweet = tweet.split(' ')\n",
    "    for t in tweet:\n",
    "        if t.startswith('#') or t.startswith('@'):\n",
    "            continue\n",
    "        else:\n",
    "            result.append(t)\n",
    "    return ' '.join(result)\n",
    "\n",
    "def remove_rt_fav(tweet):\n",
    "    \"\"\"Remove RT and FAV.\n",
    "    Args:\n",
    "        tweet(str): tweet\n",
    "    Returns:\n",
    "        modified tweet\n",
    "    \"\"\"\n",
    "    tweet = re.sub(r'^(RT|FAV)','', tweet)\n",
    "    return tweet\n",
    "\n",
    "def remove_punctuation(tweet):\n",
    "    \"\"\"Remove punctuation except '-'.\n",
    "    Args:\n",
    "        tweet(str): tweet\n",
    "    Returns:\n",
    "        modified tweet\n",
    "    \"\"\"\n",
    "    remove = string.punctuation\n",
    "    translator = str.maketrans(remove, ' '*len(remove))\n",
    "    return tweet.translate(translator)\n",
    "    \n",
    "def remove_ascii_unicode(tweet):\n",
    "    \"\"\"Remove ASCII and Unicode.\n",
    "    Args:\n",
    "        tweet(str): tweet\n",
    "    Returns:\n",
    "        modified tweet\n",
    "    \"\"\"\n",
    "    tweet = normalize('NFKD', tweet)\n",
    "    tweet = tweet.encode('ascii', 'ignore').decode('utf-8')\n",
    "    return tweet\n",
    "\n",
    "def remove_newline(tweet):\n",
    "    \"\"\"Remove newline.\n",
    "    Args:\n",
    "        tweet(str): tweet\n",
    "    Returns:\n",
    "        modified tweet\n",
    "    \"\"\"\n",
    "    tweet = tweet.replace('\\n', ' ')\n",
    "    return tweet"
   ]
  },
  {
   "cell_type": "code",
   "execution_count": 50,
   "metadata": {},
   "outputs": [],
   "source": [
    "# cleaning tweet documents\n",
    "\n",
    "for index, row in df_tweet.iterrows():\n",
    "    clean_tweet = remove_ascii_unicode(row['text'])\n",
    "    clean_tweet = clean_tweet.lower()\n",
    "    clean_tweet = remove_rt_fav(clean_tweet)\n",
    "    clean_tweet = remove_newline(clean_tweet)\n",
    "    clean_tweet = remove_url(clean_tweet)\n",
    "    clean_tweet = remove_hashtag_mention(clean_tweet)\n",
    "    clean_tweet = remove_punctuation(clean_tweet)\n",
    "    \n",
    "    # update dataframe\n",
    "    df_tweet.at[index,'text'] = clean_tweet"
   ]
  },
  {
   "cell_type": "code",
   "execution_count": 52,
   "metadata": {},
   "outputs": [
    {
     "data": {
      "text/plain": [
       "0    udacity aws deepracer scholarship challenge fo...\n",
       "1    a new udacity green it training course has bee...\n",
       "2    back to school isnt just for kids  20 courses ...\n",
       "3    belajar tensorflow yang di udacity bagus gak pak \n",
       "4                                    congratulations  \n",
       "5              please reach out at support udacity com\n",
       "6                                                     \n",
       "7    udacity aws deepracer scholarship challenge fo...\n",
       "8                     networking for web developers   \n",
       "9                                                     \n",
       "Name: text, dtype: object"
      ]
     },
     "execution_count": 52,
     "metadata": {},
     "output_type": "execute_result"
    }
   ],
   "source": [
    "# take a look at the results\n",
    "df_tweet['text'].head(10)"
   ]
  },
  {
   "cell_type": "markdown",
   "metadata": {},
   "source": [
    "## Encrpyt the dataset"
   ]
  },
  {
   "cell_type": "code",
   "execution_count": 66,
   "metadata": {},
   "outputs": [],
   "source": [
    "# initialize class EncrpytedDataset\n",
    "db = EncryptedDataset(bob, alice, secure_worker, max_val_len=280)\n",
    "\n",
    "# add Twitter dataset into db\n",
    "for index, row in df_tweet.iterrows():\n",
    "    # we can make the key combining index and username\n",
    "    key = str(index) + '@' + row['username']\n",
    "    values = row['text']\n",
    "    \n",
    "    db.add_entry(key, values)"
   ]
  },
  {
   "cell_type": "code",
   "execution_count": 67,
   "metadata": {},
   "outputs": [
    {
     "data": {
      "text/plain": [
       "'udacity aws deepracer scholarship challenge for international students '"
      ]
     },
     "execution_count": 67,
     "metadata": {},
     "output_type": "execute_result"
    }
   ],
   "source": [
    "# let's testing out our database\n",
    "db.query(\"0@JustNowBulletin\")"
   ]
  },
  {
   "cell_type": "code",
   "execution_count": 68,
   "metadata": {},
   "outputs": [
    {
     "data": {
      "text/html": [
       "<div>\n",
       "<style scoped>\n",
       "    .dataframe tbody tr th:only-of-type {\n",
       "        vertical-align: middle;\n",
       "    }\n",
       "\n",
       "    .dataframe tbody tr th {\n",
       "        vertical-align: top;\n",
       "    }\n",
       "\n",
       "    .dataframe thead th {\n",
       "        text-align: right;\n",
       "    }\n",
       "</style>\n",
       "<table border=\"1\" class=\"dataframe\">\n",
       "  <thead>\n",
       "    <tr style=\"text-align: right;\">\n",
       "      <th></th>\n",
       "      <th>username</th>\n",
       "      <th>created_at</th>\n",
       "      <th>text</th>\n",
       "    </tr>\n",
       "  </thead>\n",
       "  <tbody>\n",
       "    <tr>\n",
       "      <th>0</th>\n",
       "      <td>JustNowBulletin</td>\n",
       "      <td>2019-08-20 14:20:11</td>\n",
       "      <td>udacity aws deepracer scholarship challenge fo...</td>\n",
       "    </tr>\n",
       "  </tbody>\n",
       "</table>\n",
       "</div>"
      ],
      "text/plain": [
       "          username          created_at  \\\n",
       "0  JustNowBulletin 2019-08-20 14:20:11   \n",
       "\n",
       "                                                text  \n",
       "0  udacity aws deepracer scholarship challenge fo...  "
      ]
     },
     "execution_count": 68,
     "metadata": {},
     "output_type": "execute_result"
    }
   ],
   "source": [
    "# we get the same result\n",
    "df_tweet.head(1)"
   ]
  },
  {
   "cell_type": "markdown",
   "metadata": {},
   "source": [
    "# Step 4: Topic Modelling\n",
    "Now, we will implementing Topic Modelling from our Encrpyted Dataset."
   ]
  },
  {
   "cell_type": "code",
   "execution_count": 72,
   "metadata": {},
   "outputs": [
    {
     "data": {
      "text/plain": [
       "493"
      ]
     },
     "execution_count": 72,
     "metadata": {},
     "output_type": "execute_result"
    }
   ],
   "source": [
    "# make list of keys\n",
    "keys = list()\n",
    "\n",
    "for index, row in df_tweet.iterrows():\n",
    "    key = str(index) + '@' + row['username']\n",
    "    keys.append(key)\n",
    "\n",
    "len(keys)"
   ]
  },
  {
   "cell_type": "markdown",
   "metadata": {},
   "source": [
    "## Make a corpus\n",
    "We will make corpus from Twitter Encrypted Dataset."
   ]
  },
  {
   "cell_type": "code",
   "execution_count": 77,
   "metadata": {},
   "outputs": [],
   "source": [
    "corpus = list()\n",
    "a = list()\n",
    "\n",
    "# for i in range(len(df_tweet['text'])):\n",
    "#     a = df_tweet['text'][i]\n",
    "#     corpus.append(a)\n",
    "\n",
    "for key in keys:\n",
    "    a = db.query(key)\n",
    "    corpus.append(a)"
   ]
  },
  {
   "cell_type": "code",
   "execution_count": 79,
   "metadata": {},
   "outputs": [
    {
     "data": {
      "text/plain": [
       "['udacity aws deepracer scholarship challenge for international students ',\n",
       " 'a new udacity green it training course has been added to sustaintraina   data engineer     ',\n",
       " 'back to school isnt just for kids  20 courses to update your skills from and   ',\n",
       " 'belajar tensorflow yang di udacity bagus gak pak ',\n",
       " 'congratulations  ']"
      ]
     },
     "execution_count": 79,
     "metadata": {},
     "output_type": "execute_result"
    }
   ],
   "source": [
    "# let's see our corpus\n",
    "corpus[0:5]"
   ]
  },
  {
   "cell_type": "markdown",
   "metadata": {},
   "source": [
    "## Make temporary folder for saving dictionary and corpus"
   ]
  },
  {
   "cell_type": "code",
   "execution_count": 80,
   "metadata": {},
   "outputs": [
    {
     "name": "stdout",
     "output_type": "stream",
     "text": [
      "Folder \"C:\\Users\\YASIRA~1\\AppData\\Local\\Temp\" will be used to save temporary dictionary and corpus.\n"
     ]
    }
   ],
   "source": [
    "import gensim\n",
    "import logging\n",
    "import tempfile\n",
    "\n",
    "TEMP_FOLDER = tempfile.gettempdir()\n",
    "print('Folder \"{}\" will be used to save temporary dictionary and corpus.'.format(TEMP_FOLDER))\n",
    "\n",
    "from gensim import corpora\n",
    "logging.basicConfig(format='%(asctime)s : %(levelname)s : %(message)s', level=logging.INFO)"
   ]
  },
  {
   "cell_type": "markdown",
   "metadata": {},
   "source": [
    "## Remove common words and tokenize"
   ]
  },
  {
   "cell_type": "code",
   "execution_count": 81,
   "metadata": {},
   "outputs": [],
   "source": [
    "# remove common words and tokenize\n",
    "common_words = ['RT','rt', 'udacity']\n",
    "stoplist = stopwords.words('english') + list(punctuation) + common_words\n",
    "\n",
    "texts = [[word for word in str(document).lower().split() if word not in stoplist] for document in corpus]"
   ]
  },
  {
   "cell_type": "markdown",
   "metadata": {},
   "source": [
    "## Convert corpus documents into a stream of vectors"
   ]
  },
  {
   "cell_type": "code",
   "execution_count": 82,
   "metadata": {},
   "outputs": [],
   "source": [
    "dictionary = corpora.Dictionary(texts)\n",
    "dictionary.save(os.path.join(TEMP_FOLDER, 'tweet_documents.dict'))  # store the dictionary, for future reference\n",
    "# print(dictionary)\n",
    "\n",
    "corpus = [dictionary.doc2bow(text) for text in texts]\n",
    "corpora.MmCorpus.serialize(os.path.join(TEMP_FOLDER, 'tweet_documents.mm'), corpus)  # store to disk, for later use"
   ]
  },
  {
   "cell_type": "markdown",
   "metadata": {},
   "source": [
    "## Transformation using Tfidf\n",
    "TFIDF, short for term frequency–inverse document frequency, is a numerical statistic that is intended to reflect how important a word is to a document in a collection or corpus."
   ]
  },
  {
   "cell_type": "code",
   "execution_count": 83,
   "metadata": {},
   "outputs": [],
   "source": [
    "# initialize\n",
    "tfidf = models.TfidfModel(corpus)"
   ]
  },
  {
   "cell_type": "code",
   "execution_count": 84,
   "metadata": {},
   "outputs": [],
   "source": [
    "# use the model to transform vectors\n",
    "corpus_tfidf = tfidf[corpus]"
   ]
  },
  {
   "cell_type": "markdown",
   "metadata": {},
   "source": [
    "## Implement LDA\n",
    "Latent Dirichlet allocation (LDA) is a generative statistical model that allows sets of observations to be explained by unobserved groups that explain why some parts of the data are similar. For example, if observations are words collected into documents, it posits that each document is a mixture of a small number of topics and that each word's presence is attributable to one of the document's topics. LDA is an example of a topic model."
   ]
  },
  {
   "cell_type": "code",
   "execution_count": 85,
   "metadata": {},
   "outputs": [
    {
     "name": "stderr",
     "output_type": "stream",
     "text": [
      "W0820 23:36:28.732566  2788 ldamodel.py:934] too few updates, training might not converge; consider increasing the number of passes or iterations to improve accuracy\n"
     ]
    }
   ],
   "source": [
    "num_of_topics = 4\n",
    "\n",
    "lda = models.LdaModel(corpus, id2word=dictionary, num_topics=num_of_topics)\n",
    "corpus_lda = lda[corpus_tfidf]"
   ]
  },
  {
   "cell_type": "code",
   "execution_count": 89,
   "metadata": {},
   "outputs": [
    {
     "data": {
      "text/plain": [
       "[(0,\n",
       "  '0.014*\"course\" + 0.012*\"amp\" + 0.010*\"new\" + 0.007*\"training\" + 0.006*\"congratulations\"'),\n",
       " (1,\n",
       "  '0.013*\"learning\" + 0.011*\"nanodegree\" + 0.010*\"day\" + 0.009*\"android\" + 0.008*\"data\"'),\n",
       " (2,\n",
       "  '0.007*\"nanodegree\" + 0.007*\"thanks\" + 0.007*\"learning\" + 0.006*\"project\" + 0.006*\"amp\"'),\n",
       " (3,\n",
       "  '0.018*\"course\" + 0.017*\"learning\" + 0.015*\"day\" + 0.010*\"nanodegree\" + 0.009*\"machine\"')]"
      ]
     },
     "execution_count": 89,
     "metadata": {},
     "output_type": "execute_result"
    }
   ],
   "source": [
    "# Show first n important word in the topics\n",
    "lda.show_topics(num_of_topics, 5)"
   ]
  },
  {
   "cell_type": "code",
   "execution_count": 90,
   "metadata": {},
   "outputs": [
    {
     "name": "stdout",
     "output_type": "stream",
     "text": [
      "(71, 4)\n",
      "(4, 71)\n"
     ]
    },
    {
     "data": {
      "text/html": [
       "<div>\n",
       "<style scoped>\n",
       "    .dataframe tbody tr th:only-of-type {\n",
       "        vertical-align: middle;\n",
       "    }\n",
       "\n",
       "    .dataframe tbody tr th {\n",
       "        vertical-align: top;\n",
       "    }\n",
       "\n",
       "    .dataframe thead th {\n",
       "        text-align: right;\n",
       "    }\n",
       "</style>\n",
       "<table border=\"1\" class=\"dataframe\">\n",
       "  <thead>\n",
       "    <tr style=\"text-align: right;\">\n",
       "      <th></th>\n",
       "      <th>1</th>\n",
       "      <th>2</th>\n",
       "      <th>3</th>\n",
       "      <th>able</th>\n",
       "      <th>added</th>\n",
       "      <th>ai</th>\n",
       "      <th>also</th>\n",
       "      <th>amp</th>\n",
       "      <th>android</th>\n",
       "      <th>become</th>\n",
       "      <th>...</th>\n",
       "      <th>time</th>\n",
       "      <th>training</th>\n",
       "      <th>two</th>\n",
       "      <th>u</th>\n",
       "      <th>udemy</th>\n",
       "      <th>ur</th>\n",
       "      <th>via</th>\n",
       "      <th>voyage</th>\n",
       "      <th>web</th>\n",
       "      <th>work</th>\n",
       "    </tr>\n",
       "  </thead>\n",
       "  <tbody>\n",
       "    <tr>\n",
       "      <th>0</th>\n",
       "      <td>0.000000</td>\n",
       "      <td>0.000000</td>\n",
       "      <td>0.000000</td>\n",
       "      <td>0.003533</td>\n",
       "      <td>0.005734</td>\n",
       "      <td>0.003379</td>\n",
       "      <td>0.000000</td>\n",
       "      <td>0.011932</td>\n",
       "      <td>0.000000</td>\n",
       "      <td>0.000000</td>\n",
       "      <td>...</td>\n",
       "      <td>0.000000</td>\n",
       "      <td>0.00663</td>\n",
       "      <td>0.00338</td>\n",
       "      <td>0.000000</td>\n",
       "      <td>0.000000</td>\n",
       "      <td>0.000000</td>\n",
       "      <td>0.000000</td>\n",
       "      <td>0.004506</td>\n",
       "      <td>0.000000</td>\n",
       "      <td>0.000000</td>\n",
       "    </tr>\n",
       "    <tr>\n",
       "      <th>1</th>\n",
       "      <td>0.000000</td>\n",
       "      <td>0.000000</td>\n",
       "      <td>0.000000</td>\n",
       "      <td>0.000000</td>\n",
       "      <td>0.000000</td>\n",
       "      <td>0.000000</td>\n",
       "      <td>0.000000</td>\n",
       "      <td>0.003571</td>\n",
       "      <td>0.008878</td>\n",
       "      <td>0.003672</td>\n",
       "      <td>...</td>\n",
       "      <td>0.000000</td>\n",
       "      <td>0.00000</td>\n",
       "      <td>0.00000</td>\n",
       "      <td>0.000000</td>\n",
       "      <td>0.000000</td>\n",
       "      <td>0.000000</td>\n",
       "      <td>0.000000</td>\n",
       "      <td>0.000000</td>\n",
       "      <td>0.000000</td>\n",
       "      <td>0.003455</td>\n",
       "    </tr>\n",
       "    <tr>\n",
       "      <th>2</th>\n",
       "      <td>0.000000</td>\n",
       "      <td>0.000000</td>\n",
       "      <td>0.000000</td>\n",
       "      <td>0.000000</td>\n",
       "      <td>0.000000</td>\n",
       "      <td>0.000000</td>\n",
       "      <td>0.003593</td>\n",
       "      <td>0.005869</td>\n",
       "      <td>0.000000</td>\n",
       "      <td>0.000000</td>\n",
       "      <td>...</td>\n",
       "      <td>0.003756</td>\n",
       "      <td>0.00000</td>\n",
       "      <td>0.00000</td>\n",
       "      <td>0.003702</td>\n",
       "      <td>0.005444</td>\n",
       "      <td>0.003332</td>\n",
       "      <td>0.000000</td>\n",
       "      <td>0.000000</td>\n",
       "      <td>0.000000</td>\n",
       "      <td>0.000000</td>\n",
       "    </tr>\n",
       "    <tr>\n",
       "      <th>3</th>\n",
       "      <td>0.007639</td>\n",
       "      <td>0.009043</td>\n",
       "      <td>0.008026</td>\n",
       "      <td>0.000000</td>\n",
       "      <td>0.000000</td>\n",
       "      <td>0.004154</td>\n",
       "      <td>0.000000</td>\n",
       "      <td>0.000000</td>\n",
       "      <td>0.000000</td>\n",
       "      <td>0.000000</td>\n",
       "      <td>...</td>\n",
       "      <td>0.000000</td>\n",
       "      <td>0.00000</td>\n",
       "      <td>0.00000</td>\n",
       "      <td>0.000000</td>\n",
       "      <td>0.000000</td>\n",
       "      <td>0.000000</td>\n",
       "      <td>0.003851</td>\n",
       "      <td>0.000000</td>\n",
       "      <td>0.003543</td>\n",
       "      <td>0.000000</td>\n",
       "    </tr>\n",
       "  </tbody>\n",
       "</table>\n",
       "<p>4 rows × 71 columns</p>\n",
       "</div>"
      ],
      "text/plain": [
       "          1         2         3      able     added        ai      also  \\\n",
       "0  0.000000  0.000000  0.000000  0.003533  0.005734  0.003379  0.000000   \n",
       "1  0.000000  0.000000  0.000000  0.000000  0.000000  0.000000  0.000000   \n",
       "2  0.000000  0.000000  0.000000  0.000000  0.000000  0.000000  0.003593   \n",
       "3  0.007639  0.009043  0.008026  0.000000  0.000000  0.004154  0.000000   \n",
       "\n",
       "        amp   android    become  ...      time  training      two         u  \\\n",
       "0  0.011932  0.000000  0.000000  ...  0.000000   0.00663  0.00338  0.000000   \n",
       "1  0.003571  0.008878  0.003672  ...  0.000000   0.00000  0.00000  0.000000   \n",
       "2  0.005869  0.000000  0.000000  ...  0.003756   0.00000  0.00000  0.003702   \n",
       "3  0.000000  0.000000  0.000000  ...  0.000000   0.00000  0.00000  0.000000   \n",
       "\n",
       "      udemy        ur       via    voyage       web      work  \n",
       "0  0.000000  0.000000  0.000000  0.004506  0.000000  0.000000  \n",
       "1  0.000000  0.000000  0.000000  0.000000  0.000000  0.003455  \n",
       "2  0.005444  0.003332  0.000000  0.000000  0.000000  0.000000  \n",
       "3  0.000000  0.000000  0.003851  0.000000  0.003543  0.000000  \n",
       "\n",
       "[4 rows x 71 columns]"
      ]
     },
     "execution_count": 90,
     "metadata": {},
     "output_type": "execute_result"
    }
   ],
   "source": [
    "# Show probability for each word in each topic\n",
    "from collections import OrderedDict\n",
    "\n",
    "data_lda = {i: OrderedDict(lda.show_topic(i, 25)) for i in range(num_of_topics)}\n",
    "\n",
    "df_lda = pd.DataFrame(data_lda)\n",
    "print(df_lda.shape)\n",
    "df_lda = df_lda.fillna(0).T\n",
    "print(df_lda.shape)\n",
    "\n",
    "df_lda.head()"
   ]
  },
  {
   "cell_type": "markdown",
   "metadata": {},
   "source": [
    "## Visualizing Clustermap LDA"
   ]
  },
  {
   "cell_type": "code",
   "execution_count": null,
   "metadata": {},
   "outputs": [],
   "source": [
    "import seaborn as sns\n",
    "import matplotlib.pyplot as plt\n",
    "%matplotlib inline\n",
    "\n",
    "g = sns.clustermap(df_lda.corr(), center=0, cmap=\"RdBu\", metric='cosine', linewidths=.75, figsize=(12, 12))\n",
    "plt.setp(g.ax_heatmap.yaxis.get_majorticklabels(), rotation=0)\n",
    "plt.show()"
   ]
  },
  {
   "cell_type": "markdown",
   "metadata": {},
   "source": [
    "## Visualizing with PyLDAvis"
   ]
  },
  {
   "cell_type": "code",
   "execution_count": null,
   "metadata": {},
   "outputs": [],
   "source": [
    "import pyLDAvis.gensim\n",
    "\n",
    "pyLDAvis.enable_notebook()\n",
    "panel = pyLDAvis.gensim.prepare(lda, corpus_lda, dictionary, mds='tsne')\n",
    "panel"
   ]
  },
  {
   "cell_type": "code",
   "execution_count": null,
   "metadata": {},
   "outputs": [],
   "source": []
  },
  {
   "cell_type": "code",
   "execution_count": null,
   "metadata": {},
   "outputs": [],
   "source": []
  }
 ],
 "metadata": {
  "kernelspec": {
   "display_name": "Python 3",
   "language": "python",
   "name": "python3"
  },
  "language_info": {
   "codemirror_mode": {
    "name": "ipython",
    "version": 3
   },
   "file_extension": ".py",
   "mimetype": "text/x-python",
   "name": "python",
   "nbconvert_exporter": "python",
   "pygments_lexer": "ipython3",
   "version": "3.7.3"
  }
 },
 "nbformat": 4,
 "nbformat_minor": 2
}
